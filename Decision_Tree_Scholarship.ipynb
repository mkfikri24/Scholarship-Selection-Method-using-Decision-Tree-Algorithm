{
  "nbformat": 4,
  "nbformat_minor": 0,
  "metadata": {
    "colab": {
      "provenance": []
    },
    "kernelspec": {
      "name": "python3",
      "display_name": "Python 3"
    },
    "language_info": {
      "name": "python"
    }
  },
  "cells": [
    {
      "cell_type": "markdown",
      "source": [
        "Import Library"
      ],
      "metadata": {
        "id": "1ch9xtrnn47e"
      }
    },
    {
      "cell_type": "code",
      "source": [
        "# Import library-library yang dibutuhkan\n",
        "import matplotlib.pyplot as plt\n",
        "from sklearn.model_selection import train_test_split\n",
        "from sklearn.metrics import classification_report\n",
        "from sklearn import tree\n",
        "import seaborn as sns\n",
        "import pandas as pd\n",
        "import numpy as np\n",
        "import scipy"
      ],
      "metadata": {
        "id": "2rEoAlron651"
      },
      "execution_count": null,
      "outputs": []
    },
    {
      "cell_type": "code",
      "source": [
        "import numpy as np\n",
        "import pandas as pd\n",
        "\n",
        "import os\n",
        "for dirname, _, filenames in os.walk('/myDrive/Colab Notebooks/Dataset.csv/ '):\n",
        "    for filename in filenames:\n",
        "        print(os.path.join(dirname, filename))"
      ],
      "metadata": {
        "id": "84BkmVi8ns5M"
      },
      "execution_count": null,
      "outputs": []
    },
    {
      "cell_type": "markdown",
      "source": [
        "Data Description"
      ],
      "metadata": {
        "id": "l-frxMFooyE-"
      }
    },
    {
      "cell_type": "code",
      "source": [
        "data = pd.read_csv(\"Dataset.csv\")\n",
        "data"
      ],
      "metadata": {
        "colab": {
          "base_uri": "https://localhost:8080/",
          "height": 676
        },
        "id": "QraxkP6Jo0KT",
        "outputId": "2a3fde2e-5102-40b1-c9c2-16c7626e5bf6"
      },
      "execution_count": null,
      "outputs": [
        {
          "output_type": "execute_result",
          "data": {
            "text/plain": [
              "              NIM   Program Studi  Semester   IPK  Angkatan (Tahun Masuk)  \\\n",
              "0     12019130002   S1 Matematika         3  3.85                    2019   \n",
              "1      1520182015    D3 Kebidanan         5  3.59                    2018   \n",
              "2      2020181004  D3 Keperawatan         5  2.98                    2018   \n",
              "3     52019050043      S1 Farmasi         3  3.10                    2019   \n",
              "4      F420185015      S1 Farmasi         5  3.06                    2018   \n",
              "..            ...             ...       ...   ...                     ...   \n",
              "772  212019010027  D3 Keperawatan         3  3.35                    2019   \n",
              "773   12019120003         S1 Pgsd         3  3.55                    2019   \n",
              "774  112019030093  S1 Keperawatan         3  2.60                    2019   \n",
              "775    1020183110  S1 Keperawatan         5  2.85                    2018   \n",
              "776  212019010019  D3 Keperawatan         3  3.12                    2019   \n",
              "\n",
              "         Pekerjaan Ayah     Pekerjaan Ibu  Penghasilan Kotor Ayah/perbulan  \\\n",
              "0            Wiraswasta  Ibu Rumah Tangga                          3000000   \n",
              "1            Wiraswasta  Ibu Rumah Tangga                          1000000   \n",
              "2            Wiraswasta  Ibu Rumah Tangga                          1000000   \n",
              "3            Wiraswasta  Ibu Rumah Tangga                          3000000   \n",
              "4        Tenaga Honorer  Ibu Rumah Tangga                          1500000   \n",
              "..                  ...               ...                              ...   \n",
              "772              Petani              Guru                           100000   \n",
              "773  Buruh Harian Lepas        Wiraswasta                                0   \n",
              "774                Guru   Karyawan Swasta                          1000000   \n",
              "775       Tidak Bekerja               PNS                                0   \n",
              "776          Wiraswasta  Ibu Rumah Tangga                           500000   \n",
              "\n",
              "     Penghasilan Kotor Ibu/perbulan  Jumlah Anggota Keluarga Yang ditanggung  \\\n",
              "0                                 0                                        3   \n",
              "1                                 0                                        2   \n",
              "2                           1000000                                        1   \n",
              "3                                 0                                        1   \n",
              "4                                 0                                        1   \n",
              "..                              ...                                      ...   \n",
              "772                          100000                                        3   \n",
              "773                         1000000                                        1   \n",
              "774                          500000                                        5   \n",
              "775                         3000000                                        3   \n",
              "776                          500000                                        1   \n",
              "\n",
              "    Label  \n",
              "0       T  \n",
              "1       T  \n",
              "2       Y  \n",
              "3       Y  \n",
              "4       Y  \n",
              "..    ...  \n",
              "772     T  \n",
              "773     T  \n",
              "774     T  \n",
              "775     T  \n",
              "776     T  \n",
              "\n",
              "[777 rows x 11 columns]"
            ],
            "text/html": [
              "\n",
              "  <div id=\"df-727e043a-6d43-4d1b-ae74-0da7dc548aa3\">\n",
              "    <div class=\"colab-df-container\">\n",
              "      <div>\n",
              "<style scoped>\n",
              "    .dataframe tbody tr th:only-of-type {\n",
              "        vertical-align: middle;\n",
              "    }\n",
              "\n",
              "    .dataframe tbody tr th {\n",
              "        vertical-align: top;\n",
              "    }\n",
              "\n",
              "    .dataframe thead th {\n",
              "        text-align: right;\n",
              "    }\n",
              "</style>\n",
              "<table border=\"1\" class=\"dataframe\">\n",
              "  <thead>\n",
              "    <tr style=\"text-align: right;\">\n",
              "      <th></th>\n",
              "      <th>NIM</th>\n",
              "      <th>Program Studi</th>\n",
              "      <th>Semester</th>\n",
              "      <th>IPK</th>\n",
              "      <th>Angkatan (Tahun Masuk)</th>\n",
              "      <th>Pekerjaan Ayah</th>\n",
              "      <th>Pekerjaan Ibu</th>\n",
              "      <th>Penghasilan Kotor Ayah/perbulan</th>\n",
              "      <th>Penghasilan Kotor Ibu/perbulan</th>\n",
              "      <th>Jumlah Anggota Keluarga Yang ditanggung</th>\n",
              "      <th>Label</th>\n",
              "    </tr>\n",
              "  </thead>\n",
              "  <tbody>\n",
              "    <tr>\n",
              "      <th>0</th>\n",
              "      <td>12019130002</td>\n",
              "      <td>S1 Matematika</td>\n",
              "      <td>3</td>\n",
              "      <td>3.85</td>\n",
              "      <td>2019</td>\n",
              "      <td>Wiraswasta</td>\n",
              "      <td>Ibu Rumah Tangga</td>\n",
              "      <td>3000000</td>\n",
              "      <td>0</td>\n",
              "      <td>3</td>\n",
              "      <td>T</td>\n",
              "    </tr>\n",
              "    <tr>\n",
              "      <th>1</th>\n",
              "      <td>1520182015</td>\n",
              "      <td>D3 Kebidanan</td>\n",
              "      <td>5</td>\n",
              "      <td>3.59</td>\n",
              "      <td>2018</td>\n",
              "      <td>Wiraswasta</td>\n",
              "      <td>Ibu Rumah Tangga</td>\n",
              "      <td>1000000</td>\n",
              "      <td>0</td>\n",
              "      <td>2</td>\n",
              "      <td>T</td>\n",
              "    </tr>\n",
              "    <tr>\n",
              "      <th>2</th>\n",
              "      <td>2020181004</td>\n",
              "      <td>D3 Keperawatan</td>\n",
              "      <td>5</td>\n",
              "      <td>2.98</td>\n",
              "      <td>2018</td>\n",
              "      <td>Wiraswasta</td>\n",
              "      <td>Ibu Rumah Tangga</td>\n",
              "      <td>1000000</td>\n",
              "      <td>1000000</td>\n",
              "      <td>1</td>\n",
              "      <td>Y</td>\n",
              "    </tr>\n",
              "    <tr>\n",
              "      <th>3</th>\n",
              "      <td>52019050043</td>\n",
              "      <td>S1 Farmasi</td>\n",
              "      <td>3</td>\n",
              "      <td>3.10</td>\n",
              "      <td>2019</td>\n",
              "      <td>Wiraswasta</td>\n",
              "      <td>Ibu Rumah Tangga</td>\n",
              "      <td>3000000</td>\n",
              "      <td>0</td>\n",
              "      <td>1</td>\n",
              "      <td>Y</td>\n",
              "    </tr>\n",
              "    <tr>\n",
              "      <th>4</th>\n",
              "      <td>F420185015</td>\n",
              "      <td>S1 Farmasi</td>\n",
              "      <td>5</td>\n",
              "      <td>3.06</td>\n",
              "      <td>2018</td>\n",
              "      <td>Tenaga Honorer</td>\n",
              "      <td>Ibu Rumah Tangga</td>\n",
              "      <td>1500000</td>\n",
              "      <td>0</td>\n",
              "      <td>1</td>\n",
              "      <td>Y</td>\n",
              "    </tr>\n",
              "    <tr>\n",
              "      <th>...</th>\n",
              "      <td>...</td>\n",
              "      <td>...</td>\n",
              "      <td>...</td>\n",
              "      <td>...</td>\n",
              "      <td>...</td>\n",
              "      <td>...</td>\n",
              "      <td>...</td>\n",
              "      <td>...</td>\n",
              "      <td>...</td>\n",
              "      <td>...</td>\n",
              "      <td>...</td>\n",
              "    </tr>\n",
              "    <tr>\n",
              "      <th>772</th>\n",
              "      <td>212019010027</td>\n",
              "      <td>D3 Keperawatan</td>\n",
              "      <td>3</td>\n",
              "      <td>3.35</td>\n",
              "      <td>2019</td>\n",
              "      <td>Petani</td>\n",
              "      <td>Guru</td>\n",
              "      <td>100000</td>\n",
              "      <td>100000</td>\n",
              "      <td>3</td>\n",
              "      <td>T</td>\n",
              "    </tr>\n",
              "    <tr>\n",
              "      <th>773</th>\n",
              "      <td>12019120003</td>\n",
              "      <td>S1 Pgsd</td>\n",
              "      <td>3</td>\n",
              "      <td>3.55</td>\n",
              "      <td>2019</td>\n",
              "      <td>Buruh Harian Lepas</td>\n",
              "      <td>Wiraswasta</td>\n",
              "      <td>0</td>\n",
              "      <td>1000000</td>\n",
              "      <td>1</td>\n",
              "      <td>T</td>\n",
              "    </tr>\n",
              "    <tr>\n",
              "      <th>774</th>\n",
              "      <td>112019030093</td>\n",
              "      <td>S1 Keperawatan</td>\n",
              "      <td>3</td>\n",
              "      <td>2.60</td>\n",
              "      <td>2019</td>\n",
              "      <td>Guru</td>\n",
              "      <td>Karyawan Swasta</td>\n",
              "      <td>1000000</td>\n",
              "      <td>500000</td>\n",
              "      <td>5</td>\n",
              "      <td>T</td>\n",
              "    </tr>\n",
              "    <tr>\n",
              "      <th>775</th>\n",
              "      <td>1020183110</td>\n",
              "      <td>S1 Keperawatan</td>\n",
              "      <td>5</td>\n",
              "      <td>2.85</td>\n",
              "      <td>2018</td>\n",
              "      <td>Tidak Bekerja</td>\n",
              "      <td>PNS</td>\n",
              "      <td>0</td>\n",
              "      <td>3000000</td>\n",
              "      <td>3</td>\n",
              "      <td>T</td>\n",
              "    </tr>\n",
              "    <tr>\n",
              "      <th>776</th>\n",
              "      <td>212019010019</td>\n",
              "      <td>D3 Keperawatan</td>\n",
              "      <td>3</td>\n",
              "      <td>3.12</td>\n",
              "      <td>2019</td>\n",
              "      <td>Wiraswasta</td>\n",
              "      <td>Ibu Rumah Tangga</td>\n",
              "      <td>500000</td>\n",
              "      <td>500000</td>\n",
              "      <td>1</td>\n",
              "      <td>T</td>\n",
              "    </tr>\n",
              "  </tbody>\n",
              "</table>\n",
              "<p>777 rows × 11 columns</p>\n",
              "</div>\n",
              "      <button class=\"colab-df-convert\" onclick=\"convertToInteractive('df-727e043a-6d43-4d1b-ae74-0da7dc548aa3')\"\n",
              "              title=\"Convert this dataframe to an interactive table.\"\n",
              "              style=\"display:none;\">\n",
              "        \n",
              "  <svg xmlns=\"http://www.w3.org/2000/svg\" height=\"24px\"viewBox=\"0 0 24 24\"\n",
              "       width=\"24px\">\n",
              "    <path d=\"M0 0h24v24H0V0z\" fill=\"none\"/>\n",
              "    <path d=\"M18.56 5.44l.94 2.06.94-2.06 2.06-.94-2.06-.94-.94-2.06-.94 2.06-2.06.94zm-11 1L8.5 8.5l.94-2.06 2.06-.94-2.06-.94L8.5 2.5l-.94 2.06-2.06.94zm10 10l.94 2.06.94-2.06 2.06-.94-2.06-.94-.94-2.06-.94 2.06-2.06.94z\"/><path d=\"M17.41 7.96l-1.37-1.37c-.4-.4-.92-.59-1.43-.59-.52 0-1.04.2-1.43.59L10.3 9.45l-7.72 7.72c-.78.78-.78 2.05 0 2.83L4 21.41c.39.39.9.59 1.41.59.51 0 1.02-.2 1.41-.59l7.78-7.78 2.81-2.81c.8-.78.8-2.07 0-2.86zM5.41 20L4 18.59l7.72-7.72 1.47 1.35L5.41 20z\"/>\n",
              "  </svg>\n",
              "      </button>\n",
              "      \n",
              "  <style>\n",
              "    .colab-df-container {\n",
              "      display:flex;\n",
              "      flex-wrap:wrap;\n",
              "      gap: 12px;\n",
              "    }\n",
              "\n",
              "    .colab-df-convert {\n",
              "      background-color: #E8F0FE;\n",
              "      border: none;\n",
              "      border-radius: 50%;\n",
              "      cursor: pointer;\n",
              "      display: none;\n",
              "      fill: #1967D2;\n",
              "      height: 32px;\n",
              "      padding: 0 0 0 0;\n",
              "      width: 32px;\n",
              "    }\n",
              "\n",
              "    .colab-df-convert:hover {\n",
              "      background-color: #E2EBFA;\n",
              "      box-shadow: 0px 1px 2px rgba(60, 64, 67, 0.3), 0px 1px 3px 1px rgba(60, 64, 67, 0.15);\n",
              "      fill: #174EA6;\n",
              "    }\n",
              "\n",
              "    [theme=dark] .colab-df-convert {\n",
              "      background-color: #3B4455;\n",
              "      fill: #D2E3FC;\n",
              "    }\n",
              "\n",
              "    [theme=dark] .colab-df-convert:hover {\n",
              "      background-color: #434B5C;\n",
              "      box-shadow: 0px 1px 3px 1px rgba(0, 0, 0, 0.15);\n",
              "      filter: drop-shadow(0px 1px 2px rgba(0, 0, 0, 0.3));\n",
              "      fill: #FFFFFF;\n",
              "    }\n",
              "  </style>\n",
              "\n",
              "      <script>\n",
              "        const buttonEl =\n",
              "          document.querySelector('#df-727e043a-6d43-4d1b-ae74-0da7dc548aa3 button.colab-df-convert');\n",
              "        buttonEl.style.display =\n",
              "          google.colab.kernel.accessAllowed ? 'block' : 'none';\n",
              "\n",
              "        async function convertToInteractive(key) {\n",
              "          const element = document.querySelector('#df-727e043a-6d43-4d1b-ae74-0da7dc548aa3');\n",
              "          const dataTable =\n",
              "            await google.colab.kernel.invokeFunction('convertToInteractive',\n",
              "                                                     [key], {});\n",
              "          if (!dataTable) return;\n",
              "\n",
              "          const docLinkHtml = 'Like what you see? Visit the ' +\n",
              "            '<a target=\"_blank\" href=https://colab.research.google.com/notebooks/data_table.ipynb>data table notebook</a>'\n",
              "            + ' to learn more about interactive tables.';\n",
              "          element.innerHTML = '';\n",
              "          dataTable['output_type'] = 'display_data';\n",
              "          await google.colab.output.renderOutput(dataTable, element);\n",
              "          const docLink = document.createElement('div');\n",
              "          docLink.innerHTML = docLinkHtml;\n",
              "          element.appendChild(docLink);\n",
              "        }\n",
              "      </script>\n",
              "    </div>\n",
              "  </div>\n",
              "  "
            ]
          },
          "metadata": {},
          "execution_count": 3
        }
      ]
    },
    {
      "cell_type": "code",
      "source": [
        "# Data Information\n",
        "data.info()"
      ],
      "metadata": {
        "colab": {
          "base_uri": "https://localhost:8080/"
        },
        "id": "1Bx5h0ICpJG0",
        "outputId": "433595bd-270f-4ae4-ce7b-06a38f6c5155"
      },
      "execution_count": null,
      "outputs": [
        {
          "output_type": "stream",
          "name": "stdout",
          "text": [
            "<class 'pandas.core.frame.DataFrame'>\n",
            "RangeIndex: 777 entries, 0 to 776\n",
            "Data columns (total 11 columns):\n",
            " #   Column                                   Non-Null Count  Dtype  \n",
            "---  ------                                   --------------  -----  \n",
            " 0   NIM                                      777 non-null    object \n",
            " 1   Program Studi                            777 non-null    object \n",
            " 2   Semester                                 777 non-null    int64  \n",
            " 3   IPK                                      777 non-null    float64\n",
            " 4   Angkatan (Tahun Masuk)                   777 non-null    int64  \n",
            " 5   Pekerjaan Ayah                           777 non-null    object \n",
            " 6   Pekerjaan Ibu                            777 non-null    object \n",
            " 7   Penghasilan Kotor Ayah/perbulan          777 non-null    int64  \n",
            " 8   Penghasilan Kotor Ibu/perbulan           777 non-null    int64  \n",
            " 9   Jumlah Anggota Keluarga Yang ditanggung  777 non-null    int64  \n",
            " 10  Label                                    777 non-null    object \n",
            "dtypes: float64(1), int64(5), object(5)\n",
            "memory usage: 66.9+ KB\n"
          ]
        }
      ]
    },
    {
      "cell_type": "code",
      "source": [
        "#Data Informasi\n",
        "data.shape"
      ],
      "metadata": {
        "colab": {
          "base_uri": "https://localhost:8080/"
        },
        "id": "IMJIY4mupTHB",
        "outputId": "dd662f7f-3e1d-4534-cee9-b8bed58f9235"
      },
      "execution_count": null,
      "outputs": [
        {
          "output_type": "execute_result",
          "data": {
            "text/plain": [
              "(777, 11)"
            ]
          },
          "metadata": {},
          "execution_count": 5
        }
      ]
    },
    {
      "cell_type": "code",
      "source": [
        "#Data Informasi\n",
        "data.columns"
      ],
      "metadata": {
        "colab": {
          "base_uri": "https://localhost:8080/"
        },
        "id": "NKpf4tsfpaR3",
        "outputId": "1f05ed4c-8e96-445b-881d-c9e91e16c9ad"
      },
      "execution_count": null,
      "outputs": [
        {
          "output_type": "execute_result",
          "data": {
            "text/plain": [
              "Index(['NIM', 'Program Studi', 'Semester', 'IPK', 'Angkatan (Tahun Masuk)',\n",
              "       'Pekerjaan Ayah', 'Pekerjaan Ibu', 'Penghasilan Kotor Ayah/perbulan',\n",
              "       'Penghasilan Kotor Ibu/perbulan',\n",
              "       'Jumlah Anggota Keluarga Yang ditanggung', 'Label'],\n",
              "      dtype='object')"
            ]
          },
          "metadata": {},
          "execution_count": 6
        }
      ]
    },
    {
      "cell_type": "code",
      "source": [
        "# Mendeskripsikan data yang terdapat pada dataset\n",
        "data.describe()"
      ],
      "metadata": {
        "colab": {
          "base_uri": "https://localhost:8080/",
          "height": 361
        },
        "id": "Ngcjh49YpjmJ",
        "outputId": "5efeab2b-00c9-4317-e5ec-5e24d3bd1d3b"
      },
      "execution_count": null,
      "outputs": [
        {
          "output_type": "execute_result",
          "data": {
            "text/plain": [
              "         Semester         IPK  Angkatan (Tahun Masuk)  \\\n",
              "count  777.000000  777.000000              777.000000   \n",
              "mean     4.343629    3.169331             2018.333333   \n",
              "std      1.463143    0.237392                0.732763   \n",
              "min      3.000000    2.230000             2017.000000   \n",
              "25%      3.000000    3.000000             2018.000000   \n",
              "50%      5.000000    3.170000             2018.000000   \n",
              "75%      5.000000    3.330000             2019.000000   \n",
              "max      7.000000    3.850000             2020.000000   \n",
              "\n",
              "       Penghasilan Kotor Ayah/perbulan  Penghasilan Kotor Ibu/perbulan  \\\n",
              "count                     7.770000e+02                    7.770000e+02   \n",
              "mean                      1.654835e+06                    7.477323e+05   \n",
              "std                       1.121924e+06                    1.055638e+06   \n",
              "min                       0.000000e+00                    0.000000e+00   \n",
              "25%                       1.000000e+06                    0.000000e+00   \n",
              "50%                       1.500000e+06                    4.000000e+05   \n",
              "75%                       2.000000e+06                    1.000000e+06   \n",
              "max                       1.000000e+07                    1.000000e+07   \n",
              "\n",
              "       Jumlah Anggota Keluarga Yang ditanggung  \n",
              "count                               777.000000  \n",
              "mean                                  1.972973  \n",
              "std                                   1.091457  \n",
              "min                                   0.000000  \n",
              "25%                                   1.000000  \n",
              "50%                                   2.000000  \n",
              "75%                                   2.000000  \n",
              "max                                   8.000000  "
            ],
            "text/html": [
              "\n",
              "  <div id=\"df-c5b5c6d5-e777-4c8e-aeb7-f1aac4b3661f\">\n",
              "    <div class=\"colab-df-container\">\n",
              "      <div>\n",
              "<style scoped>\n",
              "    .dataframe tbody tr th:only-of-type {\n",
              "        vertical-align: middle;\n",
              "    }\n",
              "\n",
              "    .dataframe tbody tr th {\n",
              "        vertical-align: top;\n",
              "    }\n",
              "\n",
              "    .dataframe thead th {\n",
              "        text-align: right;\n",
              "    }\n",
              "</style>\n",
              "<table border=\"1\" class=\"dataframe\">\n",
              "  <thead>\n",
              "    <tr style=\"text-align: right;\">\n",
              "      <th></th>\n",
              "      <th>Semester</th>\n",
              "      <th>IPK</th>\n",
              "      <th>Angkatan (Tahun Masuk)</th>\n",
              "      <th>Penghasilan Kotor Ayah/perbulan</th>\n",
              "      <th>Penghasilan Kotor Ibu/perbulan</th>\n",
              "      <th>Jumlah Anggota Keluarga Yang ditanggung</th>\n",
              "    </tr>\n",
              "  </thead>\n",
              "  <tbody>\n",
              "    <tr>\n",
              "      <th>count</th>\n",
              "      <td>777.000000</td>\n",
              "      <td>777.000000</td>\n",
              "      <td>777.000000</td>\n",
              "      <td>7.770000e+02</td>\n",
              "      <td>7.770000e+02</td>\n",
              "      <td>777.000000</td>\n",
              "    </tr>\n",
              "    <tr>\n",
              "      <th>mean</th>\n",
              "      <td>4.343629</td>\n",
              "      <td>3.169331</td>\n",
              "      <td>2018.333333</td>\n",
              "      <td>1.654835e+06</td>\n",
              "      <td>7.477323e+05</td>\n",
              "      <td>1.972973</td>\n",
              "    </tr>\n",
              "    <tr>\n",
              "      <th>std</th>\n",
              "      <td>1.463143</td>\n",
              "      <td>0.237392</td>\n",
              "      <td>0.732763</td>\n",
              "      <td>1.121924e+06</td>\n",
              "      <td>1.055638e+06</td>\n",
              "      <td>1.091457</td>\n",
              "    </tr>\n",
              "    <tr>\n",
              "      <th>min</th>\n",
              "      <td>3.000000</td>\n",
              "      <td>2.230000</td>\n",
              "      <td>2017.000000</td>\n",
              "      <td>0.000000e+00</td>\n",
              "      <td>0.000000e+00</td>\n",
              "      <td>0.000000</td>\n",
              "    </tr>\n",
              "    <tr>\n",
              "      <th>25%</th>\n",
              "      <td>3.000000</td>\n",
              "      <td>3.000000</td>\n",
              "      <td>2018.000000</td>\n",
              "      <td>1.000000e+06</td>\n",
              "      <td>0.000000e+00</td>\n",
              "      <td>1.000000</td>\n",
              "    </tr>\n",
              "    <tr>\n",
              "      <th>50%</th>\n",
              "      <td>5.000000</td>\n",
              "      <td>3.170000</td>\n",
              "      <td>2018.000000</td>\n",
              "      <td>1.500000e+06</td>\n",
              "      <td>4.000000e+05</td>\n",
              "      <td>2.000000</td>\n",
              "    </tr>\n",
              "    <tr>\n",
              "      <th>75%</th>\n",
              "      <td>5.000000</td>\n",
              "      <td>3.330000</td>\n",
              "      <td>2019.000000</td>\n",
              "      <td>2.000000e+06</td>\n",
              "      <td>1.000000e+06</td>\n",
              "      <td>2.000000</td>\n",
              "    </tr>\n",
              "    <tr>\n",
              "      <th>max</th>\n",
              "      <td>7.000000</td>\n",
              "      <td>3.850000</td>\n",
              "      <td>2020.000000</td>\n",
              "      <td>1.000000e+07</td>\n",
              "      <td>1.000000e+07</td>\n",
              "      <td>8.000000</td>\n",
              "    </tr>\n",
              "  </tbody>\n",
              "</table>\n",
              "</div>\n",
              "      <button class=\"colab-df-convert\" onclick=\"convertToInteractive('df-c5b5c6d5-e777-4c8e-aeb7-f1aac4b3661f')\"\n",
              "              title=\"Convert this dataframe to an interactive table.\"\n",
              "              style=\"display:none;\">\n",
              "        \n",
              "  <svg xmlns=\"http://www.w3.org/2000/svg\" height=\"24px\"viewBox=\"0 0 24 24\"\n",
              "       width=\"24px\">\n",
              "    <path d=\"M0 0h24v24H0V0z\" fill=\"none\"/>\n",
              "    <path d=\"M18.56 5.44l.94 2.06.94-2.06 2.06-.94-2.06-.94-.94-2.06-.94 2.06-2.06.94zm-11 1L8.5 8.5l.94-2.06 2.06-.94-2.06-.94L8.5 2.5l-.94 2.06-2.06.94zm10 10l.94 2.06.94-2.06 2.06-.94-2.06-.94-.94-2.06-.94 2.06-2.06.94z\"/><path d=\"M17.41 7.96l-1.37-1.37c-.4-.4-.92-.59-1.43-.59-.52 0-1.04.2-1.43.59L10.3 9.45l-7.72 7.72c-.78.78-.78 2.05 0 2.83L4 21.41c.39.39.9.59 1.41.59.51 0 1.02-.2 1.41-.59l7.78-7.78 2.81-2.81c.8-.78.8-2.07 0-2.86zM5.41 20L4 18.59l7.72-7.72 1.47 1.35L5.41 20z\"/>\n",
              "  </svg>\n",
              "      </button>\n",
              "      \n",
              "  <style>\n",
              "    .colab-df-container {\n",
              "      display:flex;\n",
              "      flex-wrap:wrap;\n",
              "      gap: 12px;\n",
              "    }\n",
              "\n",
              "    .colab-df-convert {\n",
              "      background-color: #E8F0FE;\n",
              "      border: none;\n",
              "      border-radius: 50%;\n",
              "      cursor: pointer;\n",
              "      display: none;\n",
              "      fill: #1967D2;\n",
              "      height: 32px;\n",
              "      padding: 0 0 0 0;\n",
              "      width: 32px;\n",
              "    }\n",
              "\n",
              "    .colab-df-convert:hover {\n",
              "      background-color: #E2EBFA;\n",
              "      box-shadow: 0px 1px 2px rgba(60, 64, 67, 0.3), 0px 1px 3px 1px rgba(60, 64, 67, 0.15);\n",
              "      fill: #174EA6;\n",
              "    }\n",
              "\n",
              "    [theme=dark] .colab-df-convert {\n",
              "      background-color: #3B4455;\n",
              "      fill: #D2E3FC;\n",
              "    }\n",
              "\n",
              "    [theme=dark] .colab-df-convert:hover {\n",
              "      background-color: #434B5C;\n",
              "      box-shadow: 0px 1px 3px 1px rgba(0, 0, 0, 0.15);\n",
              "      filter: drop-shadow(0px 1px 2px rgba(0, 0, 0, 0.3));\n",
              "      fill: #FFFFFF;\n",
              "    }\n",
              "  </style>\n",
              "\n",
              "      <script>\n",
              "        const buttonEl =\n",
              "          document.querySelector('#df-c5b5c6d5-e777-4c8e-aeb7-f1aac4b3661f button.colab-df-convert');\n",
              "        buttonEl.style.display =\n",
              "          google.colab.kernel.accessAllowed ? 'block' : 'none';\n",
              "\n",
              "        async function convertToInteractive(key) {\n",
              "          const element = document.querySelector('#df-c5b5c6d5-e777-4c8e-aeb7-f1aac4b3661f');\n",
              "          const dataTable =\n",
              "            await google.colab.kernel.invokeFunction('convertToInteractive',\n",
              "                                                     [key], {});\n",
              "          if (!dataTable) return;\n",
              "\n",
              "          const docLinkHtml = 'Like what you see? Visit the ' +\n",
              "            '<a target=\"_blank\" href=https://colab.research.google.com/notebooks/data_table.ipynb>data table notebook</a>'\n",
              "            + ' to learn more about interactive tables.';\n",
              "          element.innerHTML = '';\n",
              "          dataTable['output_type'] = 'display_data';\n",
              "          await google.colab.output.renderOutput(dataTable, element);\n",
              "          const docLink = document.createElement('div');\n",
              "          docLink.innerHTML = docLinkHtml;\n",
              "          element.appendChild(docLink);\n",
              "        }\n",
              "      </script>\n",
              "    </div>\n",
              "  </div>\n",
              "  "
            ]
          },
          "metadata": {},
          "execution_count": 7
        }
      ]
    },
    {
      "cell_type": "code",
      "source": [
        "# Menghitung banyaknya data yang null pada dataset\n",
        "data.isna().sum()"
      ],
      "metadata": {
        "colab": {
          "base_uri": "https://localhost:8080/"
        },
        "id": "D9pVxWo49KFw",
        "outputId": "715ca363-9b6e-4724-dec3-49a733e3f573"
      },
      "execution_count": null,
      "outputs": [
        {
          "output_type": "execute_result",
          "data": {
            "text/plain": [
              "NIM                                        0\n",
              "Program Studi                              0\n",
              "Semester                                   0\n",
              "IPK                                        0\n",
              "Angkatan (Tahun Masuk)                     0\n",
              "Pekerjaan Ayah                             0\n",
              "Pekerjaan Ibu                              0\n",
              "Penghasilan Kotor Ayah/perbulan            0\n",
              "Penghasilan Kotor Ibu/perbulan             0\n",
              "Jumlah Anggota Keluarga Yang ditanggung    0\n",
              "Label                                      0\n",
              "dtype: int64"
            ]
          },
          "metadata": {},
          "execution_count": 8
        }
      ]
    },
    {
      "cell_type": "markdown",
      "source": [
        "Mengkontruksi Data"
      ],
      "metadata": {
        "id": "ccHwxP2nrvbk"
      }
    },
    {
      "cell_type": "code",
      "source": [
        "# Menambahkan kolom baru\n",
        "data['Total Penghasilan'] = data['Penghasilan Kotor Ayah/perbulan'] + data['Penghasilan Kotor Ibu/perbulan']\n",
        "data"
      ],
      "metadata": {
        "colab": {
          "base_uri": "https://localhost:8080/",
          "height": 728
        },
        "id": "_xUNeszP7W_K",
        "outputId": "bb6ad969-e1ea-4dc0-d144-8b5f214a494e"
      },
      "execution_count": null,
      "outputs": [
        {
          "output_type": "execute_result",
          "data": {
            "text/plain": [
              "              NIM   Program Studi  Semester   IPK  Angkatan (Tahun Masuk)  \\\n",
              "0     12019130002   S1 Matematika         3  3.85                    2019   \n",
              "1      1520182015    D3 Kebidanan         5  3.59                    2018   \n",
              "2      2020181004  D3 Keperawatan         5  2.98                    2018   \n",
              "3     52019050043      S1 Farmasi         3  3.10                    2019   \n",
              "4      F420185015      S1 Farmasi         5  3.06                    2018   \n",
              "..            ...             ...       ...   ...                     ...   \n",
              "772  212019010027  D3 Keperawatan         3  3.35                    2019   \n",
              "773   12019120003         S1 Pgsd         3  3.55                    2019   \n",
              "774  112019030093  S1 Keperawatan         3  2.60                    2019   \n",
              "775    1020183110  S1 Keperawatan         5  2.85                    2018   \n",
              "776  212019010019  D3 Keperawatan         3  3.12                    2019   \n",
              "\n",
              "         Pekerjaan Ayah     Pekerjaan Ibu  Penghasilan Kotor Ayah/perbulan  \\\n",
              "0            Wiraswasta  Ibu Rumah Tangga                          3000000   \n",
              "1            Wiraswasta  Ibu Rumah Tangga                          1000000   \n",
              "2            Wiraswasta  Ibu Rumah Tangga                          1000000   \n",
              "3            Wiraswasta  Ibu Rumah Tangga                          3000000   \n",
              "4        Tenaga Honorer  Ibu Rumah Tangga                          1500000   \n",
              "..                  ...               ...                              ...   \n",
              "772              Petani              Guru                           100000   \n",
              "773  Buruh Harian Lepas        Wiraswasta                                0   \n",
              "774                Guru   Karyawan Swasta                          1000000   \n",
              "775       Tidak Bekerja               PNS                                0   \n",
              "776          Wiraswasta  Ibu Rumah Tangga                           500000   \n",
              "\n",
              "     Penghasilan Kotor Ibu/perbulan  Jumlah Anggota Keluarga Yang ditanggung  \\\n",
              "0                                 0                                        3   \n",
              "1                                 0                                        2   \n",
              "2                           1000000                                        1   \n",
              "3                                 0                                        1   \n",
              "4                                 0                                        1   \n",
              "..                              ...                                      ...   \n",
              "772                          100000                                        3   \n",
              "773                         1000000                                        1   \n",
              "774                          500000                                        5   \n",
              "775                         3000000                                        3   \n",
              "776                          500000                                        1   \n",
              "\n",
              "    Label  Total Penghasilan  \n",
              "0       T            3000000  \n",
              "1       T            1000000  \n",
              "2       Y            2000000  \n",
              "3       Y            3000000  \n",
              "4       Y            1500000  \n",
              "..    ...                ...  \n",
              "772     T             200000  \n",
              "773     T            1000000  \n",
              "774     T            1500000  \n",
              "775     T            3000000  \n",
              "776     T            1000000  \n",
              "\n",
              "[777 rows x 12 columns]"
            ],
            "text/html": [
              "\n",
              "  <div id=\"df-c6fb48f6-1597-4d6e-b70c-32fcbafa6cfc\">\n",
              "    <div class=\"colab-df-container\">\n",
              "      <div>\n",
              "<style scoped>\n",
              "    .dataframe tbody tr th:only-of-type {\n",
              "        vertical-align: middle;\n",
              "    }\n",
              "\n",
              "    .dataframe tbody tr th {\n",
              "        vertical-align: top;\n",
              "    }\n",
              "\n",
              "    .dataframe thead th {\n",
              "        text-align: right;\n",
              "    }\n",
              "</style>\n",
              "<table border=\"1\" class=\"dataframe\">\n",
              "  <thead>\n",
              "    <tr style=\"text-align: right;\">\n",
              "      <th></th>\n",
              "      <th>NIM</th>\n",
              "      <th>Program Studi</th>\n",
              "      <th>Semester</th>\n",
              "      <th>IPK</th>\n",
              "      <th>Angkatan (Tahun Masuk)</th>\n",
              "      <th>Pekerjaan Ayah</th>\n",
              "      <th>Pekerjaan Ibu</th>\n",
              "      <th>Penghasilan Kotor Ayah/perbulan</th>\n",
              "      <th>Penghasilan Kotor Ibu/perbulan</th>\n",
              "      <th>Jumlah Anggota Keluarga Yang ditanggung</th>\n",
              "      <th>Label</th>\n",
              "      <th>Total Penghasilan</th>\n",
              "    </tr>\n",
              "  </thead>\n",
              "  <tbody>\n",
              "    <tr>\n",
              "      <th>0</th>\n",
              "      <td>12019130002</td>\n",
              "      <td>S1 Matematika</td>\n",
              "      <td>3</td>\n",
              "      <td>3.85</td>\n",
              "      <td>2019</td>\n",
              "      <td>Wiraswasta</td>\n",
              "      <td>Ibu Rumah Tangga</td>\n",
              "      <td>3000000</td>\n",
              "      <td>0</td>\n",
              "      <td>3</td>\n",
              "      <td>T</td>\n",
              "      <td>3000000</td>\n",
              "    </tr>\n",
              "    <tr>\n",
              "      <th>1</th>\n",
              "      <td>1520182015</td>\n",
              "      <td>D3 Kebidanan</td>\n",
              "      <td>5</td>\n",
              "      <td>3.59</td>\n",
              "      <td>2018</td>\n",
              "      <td>Wiraswasta</td>\n",
              "      <td>Ibu Rumah Tangga</td>\n",
              "      <td>1000000</td>\n",
              "      <td>0</td>\n",
              "      <td>2</td>\n",
              "      <td>T</td>\n",
              "      <td>1000000</td>\n",
              "    </tr>\n",
              "    <tr>\n",
              "      <th>2</th>\n",
              "      <td>2020181004</td>\n",
              "      <td>D3 Keperawatan</td>\n",
              "      <td>5</td>\n",
              "      <td>2.98</td>\n",
              "      <td>2018</td>\n",
              "      <td>Wiraswasta</td>\n",
              "      <td>Ibu Rumah Tangga</td>\n",
              "      <td>1000000</td>\n",
              "      <td>1000000</td>\n",
              "      <td>1</td>\n",
              "      <td>Y</td>\n",
              "      <td>2000000</td>\n",
              "    </tr>\n",
              "    <tr>\n",
              "      <th>3</th>\n",
              "      <td>52019050043</td>\n",
              "      <td>S1 Farmasi</td>\n",
              "      <td>3</td>\n",
              "      <td>3.10</td>\n",
              "      <td>2019</td>\n",
              "      <td>Wiraswasta</td>\n",
              "      <td>Ibu Rumah Tangga</td>\n",
              "      <td>3000000</td>\n",
              "      <td>0</td>\n",
              "      <td>1</td>\n",
              "      <td>Y</td>\n",
              "      <td>3000000</td>\n",
              "    </tr>\n",
              "    <tr>\n",
              "      <th>4</th>\n",
              "      <td>F420185015</td>\n",
              "      <td>S1 Farmasi</td>\n",
              "      <td>5</td>\n",
              "      <td>3.06</td>\n",
              "      <td>2018</td>\n",
              "      <td>Tenaga Honorer</td>\n",
              "      <td>Ibu Rumah Tangga</td>\n",
              "      <td>1500000</td>\n",
              "      <td>0</td>\n",
              "      <td>1</td>\n",
              "      <td>Y</td>\n",
              "      <td>1500000</td>\n",
              "    </tr>\n",
              "    <tr>\n",
              "      <th>...</th>\n",
              "      <td>...</td>\n",
              "      <td>...</td>\n",
              "      <td>...</td>\n",
              "      <td>...</td>\n",
              "      <td>...</td>\n",
              "      <td>...</td>\n",
              "      <td>...</td>\n",
              "      <td>...</td>\n",
              "      <td>...</td>\n",
              "      <td>...</td>\n",
              "      <td>...</td>\n",
              "      <td>...</td>\n",
              "    </tr>\n",
              "    <tr>\n",
              "      <th>772</th>\n",
              "      <td>212019010027</td>\n",
              "      <td>D3 Keperawatan</td>\n",
              "      <td>3</td>\n",
              "      <td>3.35</td>\n",
              "      <td>2019</td>\n",
              "      <td>Petani</td>\n",
              "      <td>Guru</td>\n",
              "      <td>100000</td>\n",
              "      <td>100000</td>\n",
              "      <td>3</td>\n",
              "      <td>T</td>\n",
              "      <td>200000</td>\n",
              "    </tr>\n",
              "    <tr>\n",
              "      <th>773</th>\n",
              "      <td>12019120003</td>\n",
              "      <td>S1 Pgsd</td>\n",
              "      <td>3</td>\n",
              "      <td>3.55</td>\n",
              "      <td>2019</td>\n",
              "      <td>Buruh Harian Lepas</td>\n",
              "      <td>Wiraswasta</td>\n",
              "      <td>0</td>\n",
              "      <td>1000000</td>\n",
              "      <td>1</td>\n",
              "      <td>T</td>\n",
              "      <td>1000000</td>\n",
              "    </tr>\n",
              "    <tr>\n",
              "      <th>774</th>\n",
              "      <td>112019030093</td>\n",
              "      <td>S1 Keperawatan</td>\n",
              "      <td>3</td>\n",
              "      <td>2.60</td>\n",
              "      <td>2019</td>\n",
              "      <td>Guru</td>\n",
              "      <td>Karyawan Swasta</td>\n",
              "      <td>1000000</td>\n",
              "      <td>500000</td>\n",
              "      <td>5</td>\n",
              "      <td>T</td>\n",
              "      <td>1500000</td>\n",
              "    </tr>\n",
              "    <tr>\n",
              "      <th>775</th>\n",
              "      <td>1020183110</td>\n",
              "      <td>S1 Keperawatan</td>\n",
              "      <td>5</td>\n",
              "      <td>2.85</td>\n",
              "      <td>2018</td>\n",
              "      <td>Tidak Bekerja</td>\n",
              "      <td>PNS</td>\n",
              "      <td>0</td>\n",
              "      <td>3000000</td>\n",
              "      <td>3</td>\n",
              "      <td>T</td>\n",
              "      <td>3000000</td>\n",
              "    </tr>\n",
              "    <tr>\n",
              "      <th>776</th>\n",
              "      <td>212019010019</td>\n",
              "      <td>D3 Keperawatan</td>\n",
              "      <td>3</td>\n",
              "      <td>3.12</td>\n",
              "      <td>2019</td>\n",
              "      <td>Wiraswasta</td>\n",
              "      <td>Ibu Rumah Tangga</td>\n",
              "      <td>500000</td>\n",
              "      <td>500000</td>\n",
              "      <td>1</td>\n",
              "      <td>T</td>\n",
              "      <td>1000000</td>\n",
              "    </tr>\n",
              "  </tbody>\n",
              "</table>\n",
              "<p>777 rows × 12 columns</p>\n",
              "</div>\n",
              "      <button class=\"colab-df-convert\" onclick=\"convertToInteractive('df-c6fb48f6-1597-4d6e-b70c-32fcbafa6cfc')\"\n",
              "              title=\"Convert this dataframe to an interactive table.\"\n",
              "              style=\"display:none;\">\n",
              "        \n",
              "  <svg xmlns=\"http://www.w3.org/2000/svg\" height=\"24px\"viewBox=\"0 0 24 24\"\n",
              "       width=\"24px\">\n",
              "    <path d=\"M0 0h24v24H0V0z\" fill=\"none\"/>\n",
              "    <path d=\"M18.56 5.44l.94 2.06.94-2.06 2.06-.94-2.06-.94-.94-2.06-.94 2.06-2.06.94zm-11 1L8.5 8.5l.94-2.06 2.06-.94-2.06-.94L8.5 2.5l-.94 2.06-2.06.94zm10 10l.94 2.06.94-2.06 2.06-.94-2.06-.94-.94-2.06-.94 2.06-2.06.94z\"/><path d=\"M17.41 7.96l-1.37-1.37c-.4-.4-.92-.59-1.43-.59-.52 0-1.04.2-1.43.59L10.3 9.45l-7.72 7.72c-.78.78-.78 2.05 0 2.83L4 21.41c.39.39.9.59 1.41.59.51 0 1.02-.2 1.41-.59l7.78-7.78 2.81-2.81c.8-.78.8-2.07 0-2.86zM5.41 20L4 18.59l7.72-7.72 1.47 1.35L5.41 20z\"/>\n",
              "  </svg>\n",
              "      </button>\n",
              "      \n",
              "  <style>\n",
              "    .colab-df-container {\n",
              "      display:flex;\n",
              "      flex-wrap:wrap;\n",
              "      gap: 12px;\n",
              "    }\n",
              "\n",
              "    .colab-df-convert {\n",
              "      background-color: #E8F0FE;\n",
              "      border: none;\n",
              "      border-radius: 50%;\n",
              "      cursor: pointer;\n",
              "      display: none;\n",
              "      fill: #1967D2;\n",
              "      height: 32px;\n",
              "      padding: 0 0 0 0;\n",
              "      width: 32px;\n",
              "    }\n",
              "\n",
              "    .colab-df-convert:hover {\n",
              "      background-color: #E2EBFA;\n",
              "      box-shadow: 0px 1px 2px rgba(60, 64, 67, 0.3), 0px 1px 3px 1px rgba(60, 64, 67, 0.15);\n",
              "      fill: #174EA6;\n",
              "    }\n",
              "\n",
              "    [theme=dark] .colab-df-convert {\n",
              "      background-color: #3B4455;\n",
              "      fill: #D2E3FC;\n",
              "    }\n",
              "\n",
              "    [theme=dark] .colab-df-convert:hover {\n",
              "      background-color: #434B5C;\n",
              "      box-shadow: 0px 1px 3px 1px rgba(0, 0, 0, 0.15);\n",
              "      filter: drop-shadow(0px 1px 2px rgba(0, 0, 0, 0.3));\n",
              "      fill: #FFFFFF;\n",
              "    }\n",
              "  </style>\n",
              "\n",
              "      <script>\n",
              "        const buttonEl =\n",
              "          document.querySelector('#df-c6fb48f6-1597-4d6e-b70c-32fcbafa6cfc button.colab-df-convert');\n",
              "        buttonEl.style.display =\n",
              "          google.colab.kernel.accessAllowed ? 'block' : 'none';\n",
              "\n",
              "        async function convertToInteractive(key) {\n",
              "          const element = document.querySelector('#df-c6fb48f6-1597-4d6e-b70c-32fcbafa6cfc');\n",
              "          const dataTable =\n",
              "            await google.colab.kernel.invokeFunction('convertToInteractive',\n",
              "                                                     [key], {});\n",
              "          if (!dataTable) return;\n",
              "\n",
              "          const docLinkHtml = 'Like what you see? Visit the ' +\n",
              "            '<a target=\"_blank\" href=https://colab.research.google.com/notebooks/data_table.ipynb>data table notebook</a>'\n",
              "            + ' to learn more about interactive tables.';\n",
              "          element.innerHTML = '';\n",
              "          dataTable['output_type'] = 'display_data';\n",
              "          await google.colab.output.renderOutput(dataTable, element);\n",
              "          const docLink = document.createElement('div');\n",
              "          docLink.innerHTML = docLinkHtml;\n",
              "          element.appendChild(docLink);\n",
              "        }\n",
              "      </script>\n",
              "    </div>\n",
              "  </div>\n",
              "  "
            ]
          },
          "metadata": {},
          "execution_count": 9
        }
      ]
    },
    {
      "cell_type": "code",
      "source": [
        "# Menambahkan kolom baru\n",
        "data['Alokasi Penghasilan per Anak'] = data['Total Penghasilan'] / data['Jumlah Anggota Keluarga Yang ditanggung']\n",
        "data['Alokasi Penghasilan per Anak']"
      ],
      "metadata": {
        "colab": {
          "base_uri": "https://localhost:8080/"
        },
        "id": "lOEf6ll49Dvk",
        "outputId": "53cc3549-29eb-4fd0-c5a6-f10598951d76"
      },
      "execution_count": null,
      "outputs": [
        {
          "output_type": "execute_result",
          "data": {
            "text/plain": [
              "0      1.000000e+06\n",
              "1      5.000000e+05\n",
              "2      2.000000e+06\n",
              "3      3.000000e+06\n",
              "4      1.500000e+06\n",
              "           ...     \n",
              "772    6.666667e+04\n",
              "773    1.000000e+06\n",
              "774    3.000000e+05\n",
              "775    1.000000e+06\n",
              "776    1.000000e+06\n",
              "Name: Alokasi Penghasilan per Anak, Length: 777, dtype: float64"
            ]
          },
          "metadata": {},
          "execution_count": 10
        }
      ]
    },
    {
      "cell_type": "markdown",
      "source": [
        "### Klasifikasi Kelayakan Menggunakan Nilai Mean"
      ],
      "metadata": {
        "id": "jZh7ldpw4KM2"
      }
    },
    {
      "cell_type": "code",
      "source": [
        "kelayakan = []\n",
        "\n",
        "for x in data[\"Alokasi Penghasilan per Anak\"]:\n",
        "  if x > 1410614: # Nilai Mean Alokasi Penghasilan per Anak\n",
        "    kelayakan.append('0') #NON BEASISWA\n",
        "  else:\n",
        "    kelayakan.append('1') #BEASISWA (1)\n",
        "\n",
        "data[\"Kelayakan\"] = kelayakan\n",
        "data[\"Kelayakan\"]"
      ],
      "metadata": {
        "colab": {
          "base_uri": "https://localhost:8080/"
        },
        "id": "C6INwhfaGmOS",
        "outputId": "160032f1-7d32-440d-e77d-fde904452187"
      },
      "execution_count": null,
      "outputs": [
        {
          "output_type": "execute_result",
          "data": {
            "text/plain": [
              "0      1\n",
              "1      1\n",
              "2      0\n",
              "3      0\n",
              "4      0\n",
              "      ..\n",
              "772    1\n",
              "773    1\n",
              "774    1\n",
              "775    1\n",
              "776    1\n",
              "Name: Kelayakan, Length: 777, dtype: object"
            ]
          },
          "metadata": {},
          "execution_count": 11
        }
      ]
    },
    {
      "cell_type": "code",
      "source": [
        "# Mendeskripsikan data yang terdapat pada dataset\n",
        "data.describe()"
      ],
      "metadata": {
        "colab": {
          "base_uri": "https://localhost:8080/",
          "height": 379
        },
        "id": "dfAcKueZ9gyV",
        "outputId": "9fb83600-6579-4c81-dc62-676830fef284"
      },
      "execution_count": null,
      "outputs": [
        {
          "output_type": "execute_result",
          "data": {
            "text/plain": [
              "         Semester         IPK  Angkatan (Tahun Masuk)  \\\n",
              "count  777.000000  777.000000              777.000000   \n",
              "mean     4.343629    3.169331             2018.333333   \n",
              "std      1.463143    0.237392                0.732763   \n",
              "min      3.000000    2.230000             2017.000000   \n",
              "25%      3.000000    3.000000             2018.000000   \n",
              "50%      5.000000    3.170000             2018.000000   \n",
              "75%      5.000000    3.330000             2019.000000   \n",
              "max      7.000000    3.850000             2020.000000   \n",
              "\n",
              "       Penghasilan Kotor Ayah/perbulan  Penghasilan Kotor Ibu/perbulan  \\\n",
              "count                     7.770000e+02                    7.770000e+02   \n",
              "mean                      1.654835e+06                    7.477323e+05   \n",
              "std                       1.121924e+06                    1.055638e+06   \n",
              "min                       0.000000e+00                    0.000000e+00   \n",
              "25%                       1.000000e+06                    0.000000e+00   \n",
              "50%                       1.500000e+06                    4.000000e+05   \n",
              "75%                       2.000000e+06                    1.000000e+06   \n",
              "max                       1.000000e+07                    1.000000e+07   \n",
              "\n",
              "       Jumlah Anggota Keluarga Yang ditanggung  Total Penghasilan  \\\n",
              "count                               777.000000       7.770000e+02   \n",
              "mean                                  1.972973       2.402567e+06   \n",
              "std                                   1.091457       1.594872e+06   \n",
              "min                                   0.000000       0.000000e+00   \n",
              "25%                                   1.000000       1.500000e+06   \n",
              "50%                                   2.000000       2.000000e+06   \n",
              "75%                                   2.000000       3.000000e+06   \n",
              "max                                   8.000000       1.600000e+07   \n",
              "\n",
              "       Alokasi Penghasilan per Anak  \n",
              "count                  7.740000e+02  \n",
              "mean                            inf  \n",
              "std                             NaN  \n",
              "min                    0.000000e+00  \n",
              "25%                    7.500000e+05  \n",
              "50%                    1.091667e+06  \n",
              "75%                    2.000000e+06  \n",
              "max                             inf  "
            ],
            "text/html": [
              "\n",
              "  <div id=\"df-a0bae38c-d702-4e9e-a31d-2d6c6f880710\">\n",
              "    <div class=\"colab-df-container\">\n",
              "      <div>\n",
              "<style scoped>\n",
              "    .dataframe tbody tr th:only-of-type {\n",
              "        vertical-align: middle;\n",
              "    }\n",
              "\n",
              "    .dataframe tbody tr th {\n",
              "        vertical-align: top;\n",
              "    }\n",
              "\n",
              "    .dataframe thead th {\n",
              "        text-align: right;\n",
              "    }\n",
              "</style>\n",
              "<table border=\"1\" class=\"dataframe\">\n",
              "  <thead>\n",
              "    <tr style=\"text-align: right;\">\n",
              "      <th></th>\n",
              "      <th>Semester</th>\n",
              "      <th>IPK</th>\n",
              "      <th>Angkatan (Tahun Masuk)</th>\n",
              "      <th>Penghasilan Kotor Ayah/perbulan</th>\n",
              "      <th>Penghasilan Kotor Ibu/perbulan</th>\n",
              "      <th>Jumlah Anggota Keluarga Yang ditanggung</th>\n",
              "      <th>Total Penghasilan</th>\n",
              "      <th>Alokasi Penghasilan per Anak</th>\n",
              "    </tr>\n",
              "  </thead>\n",
              "  <tbody>\n",
              "    <tr>\n",
              "      <th>count</th>\n",
              "      <td>777.000000</td>\n",
              "      <td>777.000000</td>\n",
              "      <td>777.000000</td>\n",
              "      <td>7.770000e+02</td>\n",
              "      <td>7.770000e+02</td>\n",
              "      <td>777.000000</td>\n",
              "      <td>7.770000e+02</td>\n",
              "      <td>7.740000e+02</td>\n",
              "    </tr>\n",
              "    <tr>\n",
              "      <th>mean</th>\n",
              "      <td>4.343629</td>\n",
              "      <td>3.169331</td>\n",
              "      <td>2018.333333</td>\n",
              "      <td>1.654835e+06</td>\n",
              "      <td>7.477323e+05</td>\n",
              "      <td>1.972973</td>\n",
              "      <td>2.402567e+06</td>\n",
              "      <td>inf</td>\n",
              "    </tr>\n",
              "    <tr>\n",
              "      <th>std</th>\n",
              "      <td>1.463143</td>\n",
              "      <td>0.237392</td>\n",
              "      <td>0.732763</td>\n",
              "      <td>1.121924e+06</td>\n",
              "      <td>1.055638e+06</td>\n",
              "      <td>1.091457</td>\n",
              "      <td>1.594872e+06</td>\n",
              "      <td>NaN</td>\n",
              "    </tr>\n",
              "    <tr>\n",
              "      <th>min</th>\n",
              "      <td>3.000000</td>\n",
              "      <td>2.230000</td>\n",
              "      <td>2017.000000</td>\n",
              "      <td>0.000000e+00</td>\n",
              "      <td>0.000000e+00</td>\n",
              "      <td>0.000000</td>\n",
              "      <td>0.000000e+00</td>\n",
              "      <td>0.000000e+00</td>\n",
              "    </tr>\n",
              "    <tr>\n",
              "      <th>25%</th>\n",
              "      <td>3.000000</td>\n",
              "      <td>3.000000</td>\n",
              "      <td>2018.000000</td>\n",
              "      <td>1.000000e+06</td>\n",
              "      <td>0.000000e+00</td>\n",
              "      <td>1.000000</td>\n",
              "      <td>1.500000e+06</td>\n",
              "      <td>7.500000e+05</td>\n",
              "    </tr>\n",
              "    <tr>\n",
              "      <th>50%</th>\n",
              "      <td>5.000000</td>\n",
              "      <td>3.170000</td>\n",
              "      <td>2018.000000</td>\n",
              "      <td>1.500000e+06</td>\n",
              "      <td>4.000000e+05</td>\n",
              "      <td>2.000000</td>\n",
              "      <td>2.000000e+06</td>\n",
              "      <td>1.091667e+06</td>\n",
              "    </tr>\n",
              "    <tr>\n",
              "      <th>75%</th>\n",
              "      <td>5.000000</td>\n",
              "      <td>3.330000</td>\n",
              "      <td>2019.000000</td>\n",
              "      <td>2.000000e+06</td>\n",
              "      <td>1.000000e+06</td>\n",
              "      <td>2.000000</td>\n",
              "      <td>3.000000e+06</td>\n",
              "      <td>2.000000e+06</td>\n",
              "    </tr>\n",
              "    <tr>\n",
              "      <th>max</th>\n",
              "      <td>7.000000</td>\n",
              "      <td>3.850000</td>\n",
              "      <td>2020.000000</td>\n",
              "      <td>1.000000e+07</td>\n",
              "      <td>1.000000e+07</td>\n",
              "      <td>8.000000</td>\n",
              "      <td>1.600000e+07</td>\n",
              "      <td>inf</td>\n",
              "    </tr>\n",
              "  </tbody>\n",
              "</table>\n",
              "</div>\n",
              "      <button class=\"colab-df-convert\" onclick=\"convertToInteractive('df-a0bae38c-d702-4e9e-a31d-2d6c6f880710')\"\n",
              "              title=\"Convert this dataframe to an interactive table.\"\n",
              "              style=\"display:none;\">\n",
              "        \n",
              "  <svg xmlns=\"http://www.w3.org/2000/svg\" height=\"24px\"viewBox=\"0 0 24 24\"\n",
              "       width=\"24px\">\n",
              "    <path d=\"M0 0h24v24H0V0z\" fill=\"none\"/>\n",
              "    <path d=\"M18.56 5.44l.94 2.06.94-2.06 2.06-.94-2.06-.94-.94-2.06-.94 2.06-2.06.94zm-11 1L8.5 8.5l.94-2.06 2.06-.94-2.06-.94L8.5 2.5l-.94 2.06-2.06.94zm10 10l.94 2.06.94-2.06 2.06-.94-2.06-.94-.94-2.06-.94 2.06-2.06.94z\"/><path d=\"M17.41 7.96l-1.37-1.37c-.4-.4-.92-.59-1.43-.59-.52 0-1.04.2-1.43.59L10.3 9.45l-7.72 7.72c-.78.78-.78 2.05 0 2.83L4 21.41c.39.39.9.59 1.41.59.51 0 1.02-.2 1.41-.59l7.78-7.78 2.81-2.81c.8-.78.8-2.07 0-2.86zM5.41 20L4 18.59l7.72-7.72 1.47 1.35L5.41 20z\"/>\n",
              "  </svg>\n",
              "      </button>\n",
              "      \n",
              "  <style>\n",
              "    .colab-df-container {\n",
              "      display:flex;\n",
              "      flex-wrap:wrap;\n",
              "      gap: 12px;\n",
              "    }\n",
              "\n",
              "    .colab-df-convert {\n",
              "      background-color: #E8F0FE;\n",
              "      border: none;\n",
              "      border-radius: 50%;\n",
              "      cursor: pointer;\n",
              "      display: none;\n",
              "      fill: #1967D2;\n",
              "      height: 32px;\n",
              "      padding: 0 0 0 0;\n",
              "      width: 32px;\n",
              "    }\n",
              "\n",
              "    .colab-df-convert:hover {\n",
              "      background-color: #E2EBFA;\n",
              "      box-shadow: 0px 1px 2px rgba(60, 64, 67, 0.3), 0px 1px 3px 1px rgba(60, 64, 67, 0.15);\n",
              "      fill: #174EA6;\n",
              "    }\n",
              "\n",
              "    [theme=dark] .colab-df-convert {\n",
              "      background-color: #3B4455;\n",
              "      fill: #D2E3FC;\n",
              "    }\n",
              "\n",
              "    [theme=dark] .colab-df-convert:hover {\n",
              "      background-color: #434B5C;\n",
              "      box-shadow: 0px 1px 3px 1px rgba(0, 0, 0, 0.15);\n",
              "      filter: drop-shadow(0px 1px 2px rgba(0, 0, 0, 0.3));\n",
              "      fill: #FFFFFF;\n",
              "    }\n",
              "  </style>\n",
              "\n",
              "      <script>\n",
              "        const buttonEl =\n",
              "          document.querySelector('#df-a0bae38c-d702-4e9e-a31d-2d6c6f880710 button.colab-df-convert');\n",
              "        buttonEl.style.display =\n",
              "          google.colab.kernel.accessAllowed ? 'block' : 'none';\n",
              "\n",
              "        async function convertToInteractive(key) {\n",
              "          const element = document.querySelector('#df-a0bae38c-d702-4e9e-a31d-2d6c6f880710');\n",
              "          const dataTable =\n",
              "            await google.colab.kernel.invokeFunction('convertToInteractive',\n",
              "                                                     [key], {});\n",
              "          if (!dataTable) return;\n",
              "\n",
              "          const docLinkHtml = 'Like what you see? Visit the ' +\n",
              "            '<a target=\"_blank\" href=https://colab.research.google.com/notebooks/data_table.ipynb>data table notebook</a>'\n",
              "            + ' to learn more about interactive tables.';\n",
              "          element.innerHTML = '';\n",
              "          dataTable['output_type'] = 'display_data';\n",
              "          await google.colab.output.renderOutput(dataTable, element);\n",
              "          const docLink = document.createElement('div');\n",
              "          docLink.innerHTML = docLinkHtml;\n",
              "          element.appendChild(docLink);\n",
              "        }\n",
              "      </script>\n",
              "    </div>\n",
              "  </div>\n",
              "  "
            ]
          },
          "metadata": {},
          "execution_count": 12
        }
      ]
    },
    {
      "cell_type": "markdown",
      "source": [
        "Membersihkan Data"
      ],
      "metadata": {
        "id": "SihKT9HLHWx7"
      }
    },
    {
      "cell_type": "code",
      "source": [
        "# Menghitung banyaknya data yang null pada dataset\n",
        "data.isna().sum()"
      ],
      "metadata": {
        "colab": {
          "base_uri": "https://localhost:8080/"
        },
        "id": "3icLn_CIHZQM",
        "outputId": "0728eebe-b2b7-4d39-8e2e-f41c4c03879d"
      },
      "execution_count": null,
      "outputs": [
        {
          "output_type": "execute_result",
          "data": {
            "text/plain": [
              "NIM                                        0\n",
              "Program Studi                              0\n",
              "Semester                                   0\n",
              "IPK                                        0\n",
              "Angkatan (Tahun Masuk)                     0\n",
              "Pekerjaan Ayah                             0\n",
              "Pekerjaan Ibu                              0\n",
              "Penghasilan Kotor Ayah/perbulan            0\n",
              "Penghasilan Kotor Ibu/perbulan             0\n",
              "Jumlah Anggota Keluarga Yang ditanggung    0\n",
              "Label                                      0\n",
              "Total Penghasilan                          0\n",
              "Alokasi Penghasilan per Anak               3\n",
              "Kelayakan                                  0\n",
              "dtype: int64"
            ]
          },
          "metadata": {},
          "execution_count": 13
        }
      ]
    },
    {
      "cell_type": "code",
      "source": [
        "data.dropna(how='any',inplace=True)\n",
        "data"
      ],
      "metadata": {
        "colab": {
          "base_uri": "https://localhost:8080/",
          "height": 748
        },
        "id": "6uoYxSNXHyi4",
        "outputId": "f3b27d5e-8544-4396-d0a8-df0ec5c88dec"
      },
      "execution_count": null,
      "outputs": [
        {
          "output_type": "execute_result",
          "data": {
            "text/plain": [
              "              NIM   Program Studi  Semester   IPK  Angkatan (Tahun Masuk)  \\\n",
              "0     12019130002   S1 Matematika         3  3.85                    2019   \n",
              "1      1520182015    D3 Kebidanan         5  3.59                    2018   \n",
              "2      2020181004  D3 Keperawatan         5  2.98                    2018   \n",
              "3     52019050043      S1 Farmasi         3  3.10                    2019   \n",
              "4      F420185015      S1 Farmasi         5  3.06                    2018   \n",
              "..            ...             ...       ...   ...                     ...   \n",
              "772  212019010027  D3 Keperawatan         3  3.35                    2019   \n",
              "773   12019120003         S1 Pgsd         3  3.55                    2019   \n",
              "774  112019030093  S1 Keperawatan         3  2.60                    2019   \n",
              "775    1020183110  S1 Keperawatan         5  2.85                    2018   \n",
              "776  212019010019  D3 Keperawatan         3  3.12                    2019   \n",
              "\n",
              "         Pekerjaan Ayah     Pekerjaan Ibu  Penghasilan Kotor Ayah/perbulan  \\\n",
              "0            Wiraswasta  Ibu Rumah Tangga                          3000000   \n",
              "1            Wiraswasta  Ibu Rumah Tangga                          1000000   \n",
              "2            Wiraswasta  Ibu Rumah Tangga                          1000000   \n",
              "3            Wiraswasta  Ibu Rumah Tangga                          3000000   \n",
              "4        Tenaga Honorer  Ibu Rumah Tangga                          1500000   \n",
              "..                  ...               ...                              ...   \n",
              "772              Petani              Guru                           100000   \n",
              "773  Buruh Harian Lepas        Wiraswasta                                0   \n",
              "774                Guru   Karyawan Swasta                          1000000   \n",
              "775       Tidak Bekerja               PNS                                0   \n",
              "776          Wiraswasta  Ibu Rumah Tangga                           500000   \n",
              "\n",
              "     Penghasilan Kotor Ibu/perbulan  Jumlah Anggota Keluarga Yang ditanggung  \\\n",
              "0                                 0                                        3   \n",
              "1                                 0                                        2   \n",
              "2                           1000000                                        1   \n",
              "3                                 0                                        1   \n",
              "4                                 0                                        1   \n",
              "..                              ...                                      ...   \n",
              "772                          100000                                        3   \n",
              "773                         1000000                                        1   \n",
              "774                          500000                                        5   \n",
              "775                         3000000                                        3   \n",
              "776                          500000                                        1   \n",
              "\n",
              "    Label  Total Penghasilan  Alokasi Penghasilan per Anak Kelayakan  \n",
              "0       T            3000000                  1.000000e+06         1  \n",
              "1       T            1000000                  5.000000e+05         1  \n",
              "2       Y            2000000                  2.000000e+06         0  \n",
              "3       Y            3000000                  3.000000e+06         0  \n",
              "4       Y            1500000                  1.500000e+06         0  \n",
              "..    ...                ...                           ...       ...  \n",
              "772     T             200000                  6.666667e+04         1  \n",
              "773     T            1000000                  1.000000e+06         1  \n",
              "774     T            1500000                  3.000000e+05         1  \n",
              "775     T            3000000                  1.000000e+06         1  \n",
              "776     T            1000000                  1.000000e+06         1  \n",
              "\n",
              "[774 rows x 14 columns]"
            ],
            "text/html": [
              "\n",
              "  <div id=\"df-d249d5d8-ebe5-471d-a9f6-fd5dd70c2585\">\n",
              "    <div class=\"colab-df-container\">\n",
              "      <div>\n",
              "<style scoped>\n",
              "    .dataframe tbody tr th:only-of-type {\n",
              "        vertical-align: middle;\n",
              "    }\n",
              "\n",
              "    .dataframe tbody tr th {\n",
              "        vertical-align: top;\n",
              "    }\n",
              "\n",
              "    .dataframe thead th {\n",
              "        text-align: right;\n",
              "    }\n",
              "</style>\n",
              "<table border=\"1\" class=\"dataframe\">\n",
              "  <thead>\n",
              "    <tr style=\"text-align: right;\">\n",
              "      <th></th>\n",
              "      <th>NIM</th>\n",
              "      <th>Program Studi</th>\n",
              "      <th>Semester</th>\n",
              "      <th>IPK</th>\n",
              "      <th>Angkatan (Tahun Masuk)</th>\n",
              "      <th>Pekerjaan Ayah</th>\n",
              "      <th>Pekerjaan Ibu</th>\n",
              "      <th>Penghasilan Kotor Ayah/perbulan</th>\n",
              "      <th>Penghasilan Kotor Ibu/perbulan</th>\n",
              "      <th>Jumlah Anggota Keluarga Yang ditanggung</th>\n",
              "      <th>Label</th>\n",
              "      <th>Total Penghasilan</th>\n",
              "      <th>Alokasi Penghasilan per Anak</th>\n",
              "      <th>Kelayakan</th>\n",
              "    </tr>\n",
              "  </thead>\n",
              "  <tbody>\n",
              "    <tr>\n",
              "      <th>0</th>\n",
              "      <td>12019130002</td>\n",
              "      <td>S1 Matematika</td>\n",
              "      <td>3</td>\n",
              "      <td>3.85</td>\n",
              "      <td>2019</td>\n",
              "      <td>Wiraswasta</td>\n",
              "      <td>Ibu Rumah Tangga</td>\n",
              "      <td>3000000</td>\n",
              "      <td>0</td>\n",
              "      <td>3</td>\n",
              "      <td>T</td>\n",
              "      <td>3000000</td>\n",
              "      <td>1.000000e+06</td>\n",
              "      <td>1</td>\n",
              "    </tr>\n",
              "    <tr>\n",
              "      <th>1</th>\n",
              "      <td>1520182015</td>\n",
              "      <td>D3 Kebidanan</td>\n",
              "      <td>5</td>\n",
              "      <td>3.59</td>\n",
              "      <td>2018</td>\n",
              "      <td>Wiraswasta</td>\n",
              "      <td>Ibu Rumah Tangga</td>\n",
              "      <td>1000000</td>\n",
              "      <td>0</td>\n",
              "      <td>2</td>\n",
              "      <td>T</td>\n",
              "      <td>1000000</td>\n",
              "      <td>5.000000e+05</td>\n",
              "      <td>1</td>\n",
              "    </tr>\n",
              "    <tr>\n",
              "      <th>2</th>\n",
              "      <td>2020181004</td>\n",
              "      <td>D3 Keperawatan</td>\n",
              "      <td>5</td>\n",
              "      <td>2.98</td>\n",
              "      <td>2018</td>\n",
              "      <td>Wiraswasta</td>\n",
              "      <td>Ibu Rumah Tangga</td>\n",
              "      <td>1000000</td>\n",
              "      <td>1000000</td>\n",
              "      <td>1</td>\n",
              "      <td>Y</td>\n",
              "      <td>2000000</td>\n",
              "      <td>2.000000e+06</td>\n",
              "      <td>0</td>\n",
              "    </tr>\n",
              "    <tr>\n",
              "      <th>3</th>\n",
              "      <td>52019050043</td>\n",
              "      <td>S1 Farmasi</td>\n",
              "      <td>3</td>\n",
              "      <td>3.10</td>\n",
              "      <td>2019</td>\n",
              "      <td>Wiraswasta</td>\n",
              "      <td>Ibu Rumah Tangga</td>\n",
              "      <td>3000000</td>\n",
              "      <td>0</td>\n",
              "      <td>1</td>\n",
              "      <td>Y</td>\n",
              "      <td>3000000</td>\n",
              "      <td>3.000000e+06</td>\n",
              "      <td>0</td>\n",
              "    </tr>\n",
              "    <tr>\n",
              "      <th>4</th>\n",
              "      <td>F420185015</td>\n",
              "      <td>S1 Farmasi</td>\n",
              "      <td>5</td>\n",
              "      <td>3.06</td>\n",
              "      <td>2018</td>\n",
              "      <td>Tenaga Honorer</td>\n",
              "      <td>Ibu Rumah Tangga</td>\n",
              "      <td>1500000</td>\n",
              "      <td>0</td>\n",
              "      <td>1</td>\n",
              "      <td>Y</td>\n",
              "      <td>1500000</td>\n",
              "      <td>1.500000e+06</td>\n",
              "      <td>0</td>\n",
              "    </tr>\n",
              "    <tr>\n",
              "      <th>...</th>\n",
              "      <td>...</td>\n",
              "      <td>...</td>\n",
              "      <td>...</td>\n",
              "      <td>...</td>\n",
              "      <td>...</td>\n",
              "      <td>...</td>\n",
              "      <td>...</td>\n",
              "      <td>...</td>\n",
              "      <td>...</td>\n",
              "      <td>...</td>\n",
              "      <td>...</td>\n",
              "      <td>...</td>\n",
              "      <td>...</td>\n",
              "      <td>...</td>\n",
              "    </tr>\n",
              "    <tr>\n",
              "      <th>772</th>\n",
              "      <td>212019010027</td>\n",
              "      <td>D3 Keperawatan</td>\n",
              "      <td>3</td>\n",
              "      <td>3.35</td>\n",
              "      <td>2019</td>\n",
              "      <td>Petani</td>\n",
              "      <td>Guru</td>\n",
              "      <td>100000</td>\n",
              "      <td>100000</td>\n",
              "      <td>3</td>\n",
              "      <td>T</td>\n",
              "      <td>200000</td>\n",
              "      <td>6.666667e+04</td>\n",
              "      <td>1</td>\n",
              "    </tr>\n",
              "    <tr>\n",
              "      <th>773</th>\n",
              "      <td>12019120003</td>\n",
              "      <td>S1 Pgsd</td>\n",
              "      <td>3</td>\n",
              "      <td>3.55</td>\n",
              "      <td>2019</td>\n",
              "      <td>Buruh Harian Lepas</td>\n",
              "      <td>Wiraswasta</td>\n",
              "      <td>0</td>\n",
              "      <td>1000000</td>\n",
              "      <td>1</td>\n",
              "      <td>T</td>\n",
              "      <td>1000000</td>\n",
              "      <td>1.000000e+06</td>\n",
              "      <td>1</td>\n",
              "    </tr>\n",
              "    <tr>\n",
              "      <th>774</th>\n",
              "      <td>112019030093</td>\n",
              "      <td>S1 Keperawatan</td>\n",
              "      <td>3</td>\n",
              "      <td>2.60</td>\n",
              "      <td>2019</td>\n",
              "      <td>Guru</td>\n",
              "      <td>Karyawan Swasta</td>\n",
              "      <td>1000000</td>\n",
              "      <td>500000</td>\n",
              "      <td>5</td>\n",
              "      <td>T</td>\n",
              "      <td>1500000</td>\n",
              "      <td>3.000000e+05</td>\n",
              "      <td>1</td>\n",
              "    </tr>\n",
              "    <tr>\n",
              "      <th>775</th>\n",
              "      <td>1020183110</td>\n",
              "      <td>S1 Keperawatan</td>\n",
              "      <td>5</td>\n",
              "      <td>2.85</td>\n",
              "      <td>2018</td>\n",
              "      <td>Tidak Bekerja</td>\n",
              "      <td>PNS</td>\n",
              "      <td>0</td>\n",
              "      <td>3000000</td>\n",
              "      <td>3</td>\n",
              "      <td>T</td>\n",
              "      <td>3000000</td>\n",
              "      <td>1.000000e+06</td>\n",
              "      <td>1</td>\n",
              "    </tr>\n",
              "    <tr>\n",
              "      <th>776</th>\n",
              "      <td>212019010019</td>\n",
              "      <td>D3 Keperawatan</td>\n",
              "      <td>3</td>\n",
              "      <td>3.12</td>\n",
              "      <td>2019</td>\n",
              "      <td>Wiraswasta</td>\n",
              "      <td>Ibu Rumah Tangga</td>\n",
              "      <td>500000</td>\n",
              "      <td>500000</td>\n",
              "      <td>1</td>\n",
              "      <td>T</td>\n",
              "      <td>1000000</td>\n",
              "      <td>1.000000e+06</td>\n",
              "      <td>1</td>\n",
              "    </tr>\n",
              "  </tbody>\n",
              "</table>\n",
              "<p>774 rows × 14 columns</p>\n",
              "</div>\n",
              "      <button class=\"colab-df-convert\" onclick=\"convertToInteractive('df-d249d5d8-ebe5-471d-a9f6-fd5dd70c2585')\"\n",
              "              title=\"Convert this dataframe to an interactive table.\"\n",
              "              style=\"display:none;\">\n",
              "        \n",
              "  <svg xmlns=\"http://www.w3.org/2000/svg\" height=\"24px\"viewBox=\"0 0 24 24\"\n",
              "       width=\"24px\">\n",
              "    <path d=\"M0 0h24v24H0V0z\" fill=\"none\"/>\n",
              "    <path d=\"M18.56 5.44l.94 2.06.94-2.06 2.06-.94-2.06-.94-.94-2.06-.94 2.06-2.06.94zm-11 1L8.5 8.5l.94-2.06 2.06-.94-2.06-.94L8.5 2.5l-.94 2.06-2.06.94zm10 10l.94 2.06.94-2.06 2.06-.94-2.06-.94-.94-2.06-.94 2.06-2.06.94z\"/><path d=\"M17.41 7.96l-1.37-1.37c-.4-.4-.92-.59-1.43-.59-.52 0-1.04.2-1.43.59L10.3 9.45l-7.72 7.72c-.78.78-.78 2.05 0 2.83L4 21.41c.39.39.9.59 1.41.59.51 0 1.02-.2 1.41-.59l7.78-7.78 2.81-2.81c.8-.78.8-2.07 0-2.86zM5.41 20L4 18.59l7.72-7.72 1.47 1.35L5.41 20z\"/>\n",
              "  </svg>\n",
              "      </button>\n",
              "      \n",
              "  <style>\n",
              "    .colab-df-container {\n",
              "      display:flex;\n",
              "      flex-wrap:wrap;\n",
              "      gap: 12px;\n",
              "    }\n",
              "\n",
              "    .colab-df-convert {\n",
              "      background-color: #E8F0FE;\n",
              "      border: none;\n",
              "      border-radius: 50%;\n",
              "      cursor: pointer;\n",
              "      display: none;\n",
              "      fill: #1967D2;\n",
              "      height: 32px;\n",
              "      padding: 0 0 0 0;\n",
              "      width: 32px;\n",
              "    }\n",
              "\n",
              "    .colab-df-convert:hover {\n",
              "      background-color: #E2EBFA;\n",
              "      box-shadow: 0px 1px 2px rgba(60, 64, 67, 0.3), 0px 1px 3px 1px rgba(60, 64, 67, 0.15);\n",
              "      fill: #174EA6;\n",
              "    }\n",
              "\n",
              "    [theme=dark] .colab-df-convert {\n",
              "      background-color: #3B4455;\n",
              "      fill: #D2E3FC;\n",
              "    }\n",
              "\n",
              "    [theme=dark] .colab-df-convert:hover {\n",
              "      background-color: #434B5C;\n",
              "      box-shadow: 0px 1px 3px 1px rgba(0, 0, 0, 0.15);\n",
              "      filter: drop-shadow(0px 1px 2px rgba(0, 0, 0, 0.3));\n",
              "      fill: #FFFFFF;\n",
              "    }\n",
              "  </style>\n",
              "\n",
              "      <script>\n",
              "        const buttonEl =\n",
              "          document.querySelector('#df-d249d5d8-ebe5-471d-a9f6-fd5dd70c2585 button.colab-df-convert');\n",
              "        buttonEl.style.display =\n",
              "          google.colab.kernel.accessAllowed ? 'block' : 'none';\n",
              "\n",
              "        async function convertToInteractive(key) {\n",
              "          const element = document.querySelector('#df-d249d5d8-ebe5-471d-a9f6-fd5dd70c2585');\n",
              "          const dataTable =\n",
              "            await google.colab.kernel.invokeFunction('convertToInteractive',\n",
              "                                                     [key], {});\n",
              "          if (!dataTable) return;\n",
              "\n",
              "          const docLinkHtml = 'Like what you see? Visit the ' +\n",
              "            '<a target=\"_blank\" href=https://colab.research.google.com/notebooks/data_table.ipynb>data table notebook</a>'\n",
              "            + ' to learn more about interactive tables.';\n",
              "          element.innerHTML = '';\n",
              "          dataTable['output_type'] = 'display_data';\n",
              "          await google.colab.output.renderOutput(dataTable, element);\n",
              "          const docLink = document.createElement('div');\n",
              "          docLink.innerHTML = docLinkHtml;\n",
              "          element.appendChild(docLink);\n",
              "        }\n",
              "      </script>\n",
              "    </div>\n",
              "  </div>\n",
              "  "
            ]
          },
          "metadata": {},
          "execution_count": 14
        }
      ]
    },
    {
      "cell_type": "markdown",
      "source": [
        "### Drop Missing Value"
      ],
      "metadata": {
        "id": "4tEMNL52sSeV"
      }
    },
    {
      "cell_type": "code",
      "source": [
        "data[\"Jumlah Anggota Keluarga Yang ditanggung\"].value_counts()[0]"
      ],
      "metadata": {
        "colab": {
          "base_uri": "https://localhost:8080/"
        },
        "id": "IGThQIsyH3bJ",
        "outputId": "c4f53954-8979-4bee-a05e-0bdc922f7126"
      },
      "execution_count": null,
      "outputs": [
        {
          "output_type": "execute_result",
          "data": {
            "text/plain": [
              "23"
            ]
          },
          "metadata": {},
          "execution_count": 15
        }
      ]
    },
    {
      "cell_type": "code",
      "source": [
        "data.drop(data[data[\"Jumlah Anggota Keluarga Yang ditanggung\"] == 0].index, inplace=True)"
      ],
      "metadata": {
        "id": "bpBs6lj3ICmn"
      },
      "execution_count": null,
      "outputs": []
    },
    {
      "cell_type": "markdown",
      "source": [
        "Data Splitting (Menentukan Objek Data)"
      ],
      "metadata": {
        "id": "UiZKMMkbq_JU"
      }
    },
    {
      "cell_type": "code",
      "source": [
        "selected = [\"Semester\",\"IPK\", \"Angkatan (Tahun Masuk)\",\"Penghasilan Kotor Ayah/perbulan\", \"Penghasilan Kotor Ibu/perbulan\",\"Jumlah Anggota Keluarga Yang ditanggung\",\"Total Penghasilan\",\"Alokasi Penghasilan per Anak\",\"Kelayakan\"]\n",
        "data_selected = data[selected]\n",
        "\n",
        "X = data_selected.drop(columns=\"Kelayakan\").values # atribut\n",
        "Y = data_selected[\"Kelayakan\"].values #kelas/target"
      ],
      "metadata": {
        "id": "kRakE8kwq-n-"
      },
      "execution_count": null,
      "outputs": []
    },
    {
      "cell_type": "code",
      "source": [
        "data_selected"
      ],
      "metadata": {
        "colab": {
          "base_uri": "https://localhost:8080/",
          "height": 502
        },
        "id": "8cbv9A69BxCB",
        "outputId": "32efb367-aab0-467a-9091-2993ca1b7b38"
      },
      "execution_count": null,
      "outputs": [
        {
          "output_type": "execute_result",
          "data": {
            "text/plain": [
              "     Semester   IPK  Angkatan (Tahun Masuk)  Penghasilan Kotor Ayah/perbulan  \\\n",
              "0           3  3.85                    2019                          3000000   \n",
              "1           5  3.59                    2018                          1000000   \n",
              "2           5  2.98                    2018                          1000000   \n",
              "3           3  3.10                    2019                          3000000   \n",
              "4           5  3.06                    2018                          1500000   \n",
              "..        ...   ...                     ...                              ...   \n",
              "772         3  3.35                    2019                           100000   \n",
              "773         3  3.55                    2019                                0   \n",
              "774         3  2.60                    2019                          1000000   \n",
              "775         5  2.85                    2018                                0   \n",
              "776         3  3.12                    2019                           500000   \n",
              "\n",
              "     Penghasilan Kotor Ibu/perbulan  Jumlah Anggota Keluarga Yang ditanggung  \\\n",
              "0                                 0                                        3   \n",
              "1                                 0                                        2   \n",
              "2                           1000000                                        1   \n",
              "3                                 0                                        1   \n",
              "4                                 0                                        1   \n",
              "..                              ...                                      ...   \n",
              "772                          100000                                        3   \n",
              "773                         1000000                                        1   \n",
              "774                          500000                                        5   \n",
              "775                         3000000                                        3   \n",
              "776                          500000                                        1   \n",
              "\n",
              "     Total Penghasilan  Alokasi Penghasilan per Anak Kelayakan  \n",
              "0              3000000                  1.000000e+06         1  \n",
              "1              1000000                  5.000000e+05         1  \n",
              "2              2000000                  2.000000e+06         0  \n",
              "3              3000000                  3.000000e+06         0  \n",
              "4              1500000                  1.500000e+06         0  \n",
              "..                 ...                           ...       ...  \n",
              "772             200000                  6.666667e+04         1  \n",
              "773            1000000                  1.000000e+06         1  \n",
              "774            1500000                  3.000000e+05         1  \n",
              "775            3000000                  1.000000e+06         1  \n",
              "776            1000000                  1.000000e+06         1  \n",
              "\n",
              "[751 rows x 9 columns]"
            ],
            "text/html": [
              "\n",
              "  <div id=\"df-b6dc0642-d4da-454c-acc9-317279c947a4\">\n",
              "    <div class=\"colab-df-container\">\n",
              "      <div>\n",
              "<style scoped>\n",
              "    .dataframe tbody tr th:only-of-type {\n",
              "        vertical-align: middle;\n",
              "    }\n",
              "\n",
              "    .dataframe tbody tr th {\n",
              "        vertical-align: top;\n",
              "    }\n",
              "\n",
              "    .dataframe thead th {\n",
              "        text-align: right;\n",
              "    }\n",
              "</style>\n",
              "<table border=\"1\" class=\"dataframe\">\n",
              "  <thead>\n",
              "    <tr style=\"text-align: right;\">\n",
              "      <th></th>\n",
              "      <th>Semester</th>\n",
              "      <th>IPK</th>\n",
              "      <th>Angkatan (Tahun Masuk)</th>\n",
              "      <th>Penghasilan Kotor Ayah/perbulan</th>\n",
              "      <th>Penghasilan Kotor Ibu/perbulan</th>\n",
              "      <th>Jumlah Anggota Keluarga Yang ditanggung</th>\n",
              "      <th>Total Penghasilan</th>\n",
              "      <th>Alokasi Penghasilan per Anak</th>\n",
              "      <th>Kelayakan</th>\n",
              "    </tr>\n",
              "  </thead>\n",
              "  <tbody>\n",
              "    <tr>\n",
              "      <th>0</th>\n",
              "      <td>3</td>\n",
              "      <td>3.85</td>\n",
              "      <td>2019</td>\n",
              "      <td>3000000</td>\n",
              "      <td>0</td>\n",
              "      <td>3</td>\n",
              "      <td>3000000</td>\n",
              "      <td>1.000000e+06</td>\n",
              "      <td>1</td>\n",
              "    </tr>\n",
              "    <tr>\n",
              "      <th>1</th>\n",
              "      <td>5</td>\n",
              "      <td>3.59</td>\n",
              "      <td>2018</td>\n",
              "      <td>1000000</td>\n",
              "      <td>0</td>\n",
              "      <td>2</td>\n",
              "      <td>1000000</td>\n",
              "      <td>5.000000e+05</td>\n",
              "      <td>1</td>\n",
              "    </tr>\n",
              "    <tr>\n",
              "      <th>2</th>\n",
              "      <td>5</td>\n",
              "      <td>2.98</td>\n",
              "      <td>2018</td>\n",
              "      <td>1000000</td>\n",
              "      <td>1000000</td>\n",
              "      <td>1</td>\n",
              "      <td>2000000</td>\n",
              "      <td>2.000000e+06</td>\n",
              "      <td>0</td>\n",
              "    </tr>\n",
              "    <tr>\n",
              "      <th>3</th>\n",
              "      <td>3</td>\n",
              "      <td>3.10</td>\n",
              "      <td>2019</td>\n",
              "      <td>3000000</td>\n",
              "      <td>0</td>\n",
              "      <td>1</td>\n",
              "      <td>3000000</td>\n",
              "      <td>3.000000e+06</td>\n",
              "      <td>0</td>\n",
              "    </tr>\n",
              "    <tr>\n",
              "      <th>4</th>\n",
              "      <td>5</td>\n",
              "      <td>3.06</td>\n",
              "      <td>2018</td>\n",
              "      <td>1500000</td>\n",
              "      <td>0</td>\n",
              "      <td>1</td>\n",
              "      <td>1500000</td>\n",
              "      <td>1.500000e+06</td>\n",
              "      <td>0</td>\n",
              "    </tr>\n",
              "    <tr>\n",
              "      <th>...</th>\n",
              "      <td>...</td>\n",
              "      <td>...</td>\n",
              "      <td>...</td>\n",
              "      <td>...</td>\n",
              "      <td>...</td>\n",
              "      <td>...</td>\n",
              "      <td>...</td>\n",
              "      <td>...</td>\n",
              "      <td>...</td>\n",
              "    </tr>\n",
              "    <tr>\n",
              "      <th>772</th>\n",
              "      <td>3</td>\n",
              "      <td>3.35</td>\n",
              "      <td>2019</td>\n",
              "      <td>100000</td>\n",
              "      <td>100000</td>\n",
              "      <td>3</td>\n",
              "      <td>200000</td>\n",
              "      <td>6.666667e+04</td>\n",
              "      <td>1</td>\n",
              "    </tr>\n",
              "    <tr>\n",
              "      <th>773</th>\n",
              "      <td>3</td>\n",
              "      <td>3.55</td>\n",
              "      <td>2019</td>\n",
              "      <td>0</td>\n",
              "      <td>1000000</td>\n",
              "      <td>1</td>\n",
              "      <td>1000000</td>\n",
              "      <td>1.000000e+06</td>\n",
              "      <td>1</td>\n",
              "    </tr>\n",
              "    <tr>\n",
              "      <th>774</th>\n",
              "      <td>3</td>\n",
              "      <td>2.60</td>\n",
              "      <td>2019</td>\n",
              "      <td>1000000</td>\n",
              "      <td>500000</td>\n",
              "      <td>5</td>\n",
              "      <td>1500000</td>\n",
              "      <td>3.000000e+05</td>\n",
              "      <td>1</td>\n",
              "    </tr>\n",
              "    <tr>\n",
              "      <th>775</th>\n",
              "      <td>5</td>\n",
              "      <td>2.85</td>\n",
              "      <td>2018</td>\n",
              "      <td>0</td>\n",
              "      <td>3000000</td>\n",
              "      <td>3</td>\n",
              "      <td>3000000</td>\n",
              "      <td>1.000000e+06</td>\n",
              "      <td>1</td>\n",
              "    </tr>\n",
              "    <tr>\n",
              "      <th>776</th>\n",
              "      <td>3</td>\n",
              "      <td>3.12</td>\n",
              "      <td>2019</td>\n",
              "      <td>500000</td>\n",
              "      <td>500000</td>\n",
              "      <td>1</td>\n",
              "      <td>1000000</td>\n",
              "      <td>1.000000e+06</td>\n",
              "      <td>1</td>\n",
              "    </tr>\n",
              "  </tbody>\n",
              "</table>\n",
              "<p>751 rows × 9 columns</p>\n",
              "</div>\n",
              "      <button class=\"colab-df-convert\" onclick=\"convertToInteractive('df-b6dc0642-d4da-454c-acc9-317279c947a4')\"\n",
              "              title=\"Convert this dataframe to an interactive table.\"\n",
              "              style=\"display:none;\">\n",
              "        \n",
              "  <svg xmlns=\"http://www.w3.org/2000/svg\" height=\"24px\"viewBox=\"0 0 24 24\"\n",
              "       width=\"24px\">\n",
              "    <path d=\"M0 0h24v24H0V0z\" fill=\"none\"/>\n",
              "    <path d=\"M18.56 5.44l.94 2.06.94-2.06 2.06-.94-2.06-.94-.94-2.06-.94 2.06-2.06.94zm-11 1L8.5 8.5l.94-2.06 2.06-.94-2.06-.94L8.5 2.5l-.94 2.06-2.06.94zm10 10l.94 2.06.94-2.06 2.06-.94-2.06-.94-.94-2.06-.94 2.06-2.06.94z\"/><path d=\"M17.41 7.96l-1.37-1.37c-.4-.4-.92-.59-1.43-.59-.52 0-1.04.2-1.43.59L10.3 9.45l-7.72 7.72c-.78.78-.78 2.05 0 2.83L4 21.41c.39.39.9.59 1.41.59.51 0 1.02-.2 1.41-.59l7.78-7.78 2.81-2.81c.8-.78.8-2.07 0-2.86zM5.41 20L4 18.59l7.72-7.72 1.47 1.35L5.41 20z\"/>\n",
              "  </svg>\n",
              "      </button>\n",
              "      \n",
              "  <style>\n",
              "    .colab-df-container {\n",
              "      display:flex;\n",
              "      flex-wrap:wrap;\n",
              "      gap: 12px;\n",
              "    }\n",
              "\n",
              "    .colab-df-convert {\n",
              "      background-color: #E8F0FE;\n",
              "      border: none;\n",
              "      border-radius: 50%;\n",
              "      cursor: pointer;\n",
              "      display: none;\n",
              "      fill: #1967D2;\n",
              "      height: 32px;\n",
              "      padding: 0 0 0 0;\n",
              "      width: 32px;\n",
              "    }\n",
              "\n",
              "    .colab-df-convert:hover {\n",
              "      background-color: #E2EBFA;\n",
              "      box-shadow: 0px 1px 2px rgba(60, 64, 67, 0.3), 0px 1px 3px 1px rgba(60, 64, 67, 0.15);\n",
              "      fill: #174EA6;\n",
              "    }\n",
              "\n",
              "    [theme=dark] .colab-df-convert {\n",
              "      background-color: #3B4455;\n",
              "      fill: #D2E3FC;\n",
              "    }\n",
              "\n",
              "    [theme=dark] .colab-df-convert:hover {\n",
              "      background-color: #434B5C;\n",
              "      box-shadow: 0px 1px 3px 1px rgba(0, 0, 0, 0.15);\n",
              "      filter: drop-shadow(0px 1px 2px rgba(0, 0, 0, 0.3));\n",
              "      fill: #FFFFFF;\n",
              "    }\n",
              "  </style>\n",
              "\n",
              "      <script>\n",
              "        const buttonEl =\n",
              "          document.querySelector('#df-b6dc0642-d4da-454c-acc9-317279c947a4 button.colab-df-convert');\n",
              "        buttonEl.style.display =\n",
              "          google.colab.kernel.accessAllowed ? 'block' : 'none';\n",
              "\n",
              "        async function convertToInteractive(key) {\n",
              "          const element = document.querySelector('#df-b6dc0642-d4da-454c-acc9-317279c947a4');\n",
              "          const dataTable =\n",
              "            await google.colab.kernel.invokeFunction('convertToInteractive',\n",
              "                                                     [key], {});\n",
              "          if (!dataTable) return;\n",
              "\n",
              "          const docLinkHtml = 'Like what you see? Visit the ' +\n",
              "            '<a target=\"_blank\" href=https://colab.research.google.com/notebooks/data_table.ipynb>data table notebook</a>'\n",
              "            + ' to learn more about interactive tables.';\n",
              "          element.innerHTML = '';\n",
              "          dataTable['output_type'] = 'display_data';\n",
              "          await google.colab.output.renderOutput(dataTable, element);\n",
              "          const docLink = document.createElement('div');\n",
              "          docLink.innerHTML = docLinkHtml;\n",
              "          element.appendChild(docLink);\n",
              "        }\n",
              "      </script>\n",
              "    </div>\n",
              "  </div>\n",
              "  "
            ]
          },
          "metadata": {},
          "execution_count": 18
        }
      ]
    },
    {
      "cell_type": "code",
      "source": [
        "print(X.shape)\n",
        "print(Y.shape)"
      ],
      "metadata": {
        "colab": {
          "base_uri": "https://localhost:8080/"
        },
        "id": "YhKWUi1dt1ta",
        "outputId": "9ba80b95-1666-4a26-97d6-3a8ce3c98526"
      },
      "execution_count": null,
      "outputs": [
        {
          "output_type": "stream",
          "name": "stdout",
          "text": [
            "(751, 8)\n",
            "(751,)\n"
          ]
        }
      ]
    },
    {
      "cell_type": "code",
      "source": [
        "#Import library yang dibutuhkan\n",
        "from sklearn import model_selection\n",
        "\n",
        "#Mendefinisikan ukuran testing data dan seed untuk random state\n",
        "test_size = 0.30\n",
        "seed = 7\n",
        "X_train,X_test,y_train,y_test = model_selection.train_test_split(X,Y,test_size = test_size,random_state=seed)"
      ],
      "metadata": {
        "id": "pRi8Xp05t7fD"
      },
      "execution_count": null,
      "outputs": []
    },
    {
      "cell_type": "markdown",
      "source": [
        "Normalisasi Data"
      ],
      "metadata": {
        "id": "p1P2p5YEuGxh"
      }
    },
    {
      "cell_type": "code",
      "source": [
        "from sklearn.preprocessing import StandardScaler\n",
        "sc = StandardScaler() #melakukan penskalaan agar nilai dan rentang data antar atribut sama besarnya\n",
        "x_train = sc.fit_transform(X_train)\n",
        "x_test = sc.fit_transform(X_test)"
      ],
      "metadata": {
        "id": "8HSSriQOuNDf"
      },
      "execution_count": null,
      "outputs": []
    },
    {
      "cell_type": "markdown",
      "source": [
        "Membangun Skenario Model"
      ],
      "metadata": {
        "id": "Hx4xfogqrdEO"
      }
    },
    {
      "cell_type": "code",
      "source": [
        "#Melakukan import beberapa library berisi algoritma klasifikasi yang akan digunakan\n",
        "from sklearn.tree import DecisionTreeClassifier\n",
        "from sklearn.svm import SVC\n",
        "from sklearn.naive_bayes import GaussianNB\n",
        "from sklearn.tree import DecisionTreeClassifier\n",
        "from sklearn.neighbors import KNeighborsClassifier\n",
        "from sklearn.linear_model import LogisticRegression\n",
        "\n",
        "#Membuat array kosong untuk menampung beberapa algoritma klasifikasi\n",
        "models = []\n",
        "\n",
        "#Membuat array asosiatif berisi nama algoritma dan algoritma klasifikasinya\n",
        "models.append(('Decision Tree',DecisionTreeClassifier()))\n",
        "models.append(('SVM',SVC()))\n",
        "models.append(('Gaussian Naive Bayes',GaussianNB()))\n",
        "models.append(('KNN',KNeighborsClassifier(n_neighbors = 7, metric = 'euclidean')))"
      ],
      "metadata": {
        "id": "JaH1gz23GKOj"
      },
      "execution_count": null,
      "outputs": []
    },
    {
      "cell_type": "markdown",
      "source": [
        "Membangun dan Menguji Model"
      ],
      "metadata": {
        "id": "rcdWsQMorgaX"
      }
    },
    {
      "cell_type": "code",
      "source": [
        "#Mendefinisikan ssed dan scoring yang digunakan untuk menguji model dengan validation data\n",
        "seed = 7\n",
        "scoring = 'accuracy'\n",
        "results = []\n",
        "names = []\n",
        "\n",
        "#Membagi data menjadi traning dan validation set menggunakan k-fold cross validation, dengan k = 10\n",
        "for name, model in models:\n",
        "  kfold = model_selection.KFold(n_splits=7, random_state = seed, shuffle = True)\n",
        "\n",
        "  #Menguji akurasi dari masing-masing model menggunakan validasi data\n",
        "  cv_results = model_selection.cross_val_score(model,x_train,y_train.ravel(),cv=kfold,scoring = scoring)\n",
        "  results.append(cv_results)\n",
        "  msg = \"%s : %f (%f)\" % (name,cv_results.mean(),cv_results.std())\n",
        "  print(msg)"
      ],
      "metadata": {
        "colab": {
          "base_uri": "https://localhost:8080/"
        },
        "id": "CUAZiPvIGTMs",
        "outputId": "847c70f5-ebb2-47ae-c9d2-9fc76916f3c6"
      },
      "execution_count": null,
      "outputs": [
        {
          "output_type": "stream",
          "name": "stdout",
          "text": [
            "Decision Tree : 1.000000 (0.000000)\n",
            "SVM : 0.975238 (0.014998)\n",
            "Gaussian Naive Bayes : 0.942857 (0.023328)\n",
            "KNN : 0.923810 (0.034706)\n"
          ]
        }
      ]
    },
    {
      "cell_type": "code",
      "source": [
        "#Menggunakan Decision Tree Classifier dengan kriteria splitting Gini impurity untuk membentuk model\n",
        "clf_gini = DecisionTreeClassifier(criterion='gini', max_depth=3, random_state=None)\n",
        "\n",
        "\n",
        "# fit model\n",
        "clf_gini.fit(X_train, y_train)"
      ],
      "metadata": {
        "colab": {
          "base_uri": "https://localhost:8080/",
          "height": 74
        },
        "id": "Ja_n9AkxkB_J",
        "outputId": "c34b9881-0f5a-4548-9a98-f4a7223470c7"
      },
      "execution_count": null,
      "outputs": [
        {
          "output_type": "execute_result",
          "data": {
            "text/plain": [
              "DecisionTreeClassifier(max_depth=3)"
            ],
            "text/html": [
              "<style>#sk-container-id-1 {color: black;background-color: white;}#sk-container-id-1 pre{padding: 0;}#sk-container-id-1 div.sk-toggleable {background-color: white;}#sk-container-id-1 label.sk-toggleable__label {cursor: pointer;display: block;width: 100%;margin-bottom: 0;padding: 0.3em;box-sizing: border-box;text-align: center;}#sk-container-id-1 label.sk-toggleable__label-arrow:before {content: \"▸\";float: left;margin-right: 0.25em;color: #696969;}#sk-container-id-1 label.sk-toggleable__label-arrow:hover:before {color: black;}#sk-container-id-1 div.sk-estimator:hover label.sk-toggleable__label-arrow:before {color: black;}#sk-container-id-1 div.sk-toggleable__content {max-height: 0;max-width: 0;overflow: hidden;text-align: left;background-color: #f0f8ff;}#sk-container-id-1 div.sk-toggleable__content pre {margin: 0.2em;color: black;border-radius: 0.25em;background-color: #f0f8ff;}#sk-container-id-1 input.sk-toggleable__control:checked~div.sk-toggleable__content {max-height: 200px;max-width: 100%;overflow: auto;}#sk-container-id-1 input.sk-toggleable__control:checked~label.sk-toggleable__label-arrow:before {content: \"▾\";}#sk-container-id-1 div.sk-estimator input.sk-toggleable__control:checked~label.sk-toggleable__label {background-color: #d4ebff;}#sk-container-id-1 div.sk-label input.sk-toggleable__control:checked~label.sk-toggleable__label {background-color: #d4ebff;}#sk-container-id-1 input.sk-hidden--visually {border: 0;clip: rect(1px 1px 1px 1px);clip: rect(1px, 1px, 1px, 1px);height: 1px;margin: -1px;overflow: hidden;padding: 0;position: absolute;width: 1px;}#sk-container-id-1 div.sk-estimator {font-family: monospace;background-color: #f0f8ff;border: 1px dotted black;border-radius: 0.25em;box-sizing: border-box;margin-bottom: 0.5em;}#sk-container-id-1 div.sk-estimator:hover {background-color: #d4ebff;}#sk-container-id-1 div.sk-parallel-item::after {content: \"\";width: 100%;border-bottom: 1px solid gray;flex-grow: 1;}#sk-container-id-1 div.sk-label:hover label.sk-toggleable__label {background-color: #d4ebff;}#sk-container-id-1 div.sk-serial::before {content: \"\";position: absolute;border-left: 1px solid gray;box-sizing: border-box;top: 0;bottom: 0;left: 50%;z-index: 0;}#sk-container-id-1 div.sk-serial {display: flex;flex-direction: column;align-items: center;background-color: white;padding-right: 0.2em;padding-left: 0.2em;position: relative;}#sk-container-id-1 div.sk-item {position: relative;z-index: 1;}#sk-container-id-1 div.sk-parallel {display: flex;align-items: stretch;justify-content: center;background-color: white;position: relative;}#sk-container-id-1 div.sk-item::before, #sk-container-id-1 div.sk-parallel-item::before {content: \"\";position: absolute;border-left: 1px solid gray;box-sizing: border-box;top: 0;bottom: 0;left: 50%;z-index: -1;}#sk-container-id-1 div.sk-parallel-item {display: flex;flex-direction: column;z-index: 1;position: relative;background-color: white;}#sk-container-id-1 div.sk-parallel-item:first-child::after {align-self: flex-end;width: 50%;}#sk-container-id-1 div.sk-parallel-item:last-child::after {align-self: flex-start;width: 50%;}#sk-container-id-1 div.sk-parallel-item:only-child::after {width: 0;}#sk-container-id-1 div.sk-dashed-wrapped {border: 1px dashed gray;margin: 0 0.4em 0.5em 0.4em;box-sizing: border-box;padding-bottom: 0.4em;background-color: white;}#sk-container-id-1 div.sk-label label {font-family: monospace;font-weight: bold;display: inline-block;line-height: 1.2em;}#sk-container-id-1 div.sk-label-container {text-align: center;}#sk-container-id-1 div.sk-container {/* jupyter's `normalize.less` sets `[hidden] { display: none; }` but bootstrap.min.css set `[hidden] { display: none !important; }` so we also need the `!important` here to be able to override the default hidden behavior on the sphinx rendered scikit-learn.org. See: https://github.com/scikit-learn/scikit-learn/issues/21755 */display: inline-block !important;position: relative;}#sk-container-id-1 div.sk-text-repr-fallback {display: none;}</style><div id=\"sk-container-id-1\" class=\"sk-top-container\"><div class=\"sk-text-repr-fallback\"><pre>DecisionTreeClassifier(max_depth=3)</pre><b>In a Jupyter environment, please rerun this cell to show the HTML representation or trust the notebook. <br />On GitHub, the HTML representation is unable to render, please try loading this page with nbviewer.org.</b></div><div class=\"sk-container\" hidden><div class=\"sk-item\"><div class=\"sk-estimator sk-toggleable\"><input class=\"sk-toggleable__control sk-hidden--visually\" id=\"sk-estimator-id-1\" type=\"checkbox\" checked><label for=\"sk-estimator-id-1\" class=\"sk-toggleable__label sk-toggleable__label-arrow\">DecisionTreeClassifier</label><div class=\"sk-toggleable__content\"><pre>DecisionTreeClassifier(max_depth=3)</pre></div></div></div></div></div>"
            ]
          },
          "metadata": {},
          "execution_count": 24
        }
      ]
    },
    {
      "cell_type": "code",
      "source": [
        "from sklearn.svm import SVC\n",
        "classifier = SVC()\n",
        "classifier.fit(x_train,y_train)"
      ],
      "metadata": {
        "colab": {
          "base_uri": "https://localhost:8080/",
          "height": 51
        },
        "id": "p90nkrthGdyG",
        "outputId": "e4b802d3-2c14-4873-96fc-f1445dd20566"
      },
      "execution_count": null,
      "outputs": [
        {
          "output_type": "execute_result",
          "data": {
            "text/plain": [
              "SVC()"
            ],
            "text/html": [
              "<style>#sk-container-id-2 {color: black;background-color: white;}#sk-container-id-2 pre{padding: 0;}#sk-container-id-2 div.sk-toggleable {background-color: white;}#sk-container-id-2 label.sk-toggleable__label {cursor: pointer;display: block;width: 100%;margin-bottom: 0;padding: 0.3em;box-sizing: border-box;text-align: center;}#sk-container-id-2 label.sk-toggleable__label-arrow:before {content: \"▸\";float: left;margin-right: 0.25em;color: #696969;}#sk-container-id-2 label.sk-toggleable__label-arrow:hover:before {color: black;}#sk-container-id-2 div.sk-estimator:hover label.sk-toggleable__label-arrow:before {color: black;}#sk-container-id-2 div.sk-toggleable__content {max-height: 0;max-width: 0;overflow: hidden;text-align: left;background-color: #f0f8ff;}#sk-container-id-2 div.sk-toggleable__content pre {margin: 0.2em;color: black;border-radius: 0.25em;background-color: #f0f8ff;}#sk-container-id-2 input.sk-toggleable__control:checked~div.sk-toggleable__content {max-height: 200px;max-width: 100%;overflow: auto;}#sk-container-id-2 input.sk-toggleable__control:checked~label.sk-toggleable__label-arrow:before {content: \"▾\";}#sk-container-id-2 div.sk-estimator input.sk-toggleable__control:checked~label.sk-toggleable__label {background-color: #d4ebff;}#sk-container-id-2 div.sk-label input.sk-toggleable__control:checked~label.sk-toggleable__label {background-color: #d4ebff;}#sk-container-id-2 input.sk-hidden--visually {border: 0;clip: rect(1px 1px 1px 1px);clip: rect(1px, 1px, 1px, 1px);height: 1px;margin: -1px;overflow: hidden;padding: 0;position: absolute;width: 1px;}#sk-container-id-2 div.sk-estimator {font-family: monospace;background-color: #f0f8ff;border: 1px dotted black;border-radius: 0.25em;box-sizing: border-box;margin-bottom: 0.5em;}#sk-container-id-2 div.sk-estimator:hover {background-color: #d4ebff;}#sk-container-id-2 div.sk-parallel-item::after {content: \"\";width: 100%;border-bottom: 1px solid gray;flex-grow: 1;}#sk-container-id-2 div.sk-label:hover label.sk-toggleable__label {background-color: #d4ebff;}#sk-container-id-2 div.sk-serial::before {content: \"\";position: absolute;border-left: 1px solid gray;box-sizing: border-box;top: 0;bottom: 0;left: 50%;z-index: 0;}#sk-container-id-2 div.sk-serial {display: flex;flex-direction: column;align-items: center;background-color: white;padding-right: 0.2em;padding-left: 0.2em;position: relative;}#sk-container-id-2 div.sk-item {position: relative;z-index: 1;}#sk-container-id-2 div.sk-parallel {display: flex;align-items: stretch;justify-content: center;background-color: white;position: relative;}#sk-container-id-2 div.sk-item::before, #sk-container-id-2 div.sk-parallel-item::before {content: \"\";position: absolute;border-left: 1px solid gray;box-sizing: border-box;top: 0;bottom: 0;left: 50%;z-index: -1;}#sk-container-id-2 div.sk-parallel-item {display: flex;flex-direction: column;z-index: 1;position: relative;background-color: white;}#sk-container-id-2 div.sk-parallel-item:first-child::after {align-self: flex-end;width: 50%;}#sk-container-id-2 div.sk-parallel-item:last-child::after {align-self: flex-start;width: 50%;}#sk-container-id-2 div.sk-parallel-item:only-child::after {width: 0;}#sk-container-id-2 div.sk-dashed-wrapped {border: 1px dashed gray;margin: 0 0.4em 0.5em 0.4em;box-sizing: border-box;padding-bottom: 0.4em;background-color: white;}#sk-container-id-2 div.sk-label label {font-family: monospace;font-weight: bold;display: inline-block;line-height: 1.2em;}#sk-container-id-2 div.sk-label-container {text-align: center;}#sk-container-id-2 div.sk-container {/* jupyter's `normalize.less` sets `[hidden] { display: none; }` but bootstrap.min.css set `[hidden] { display: none !important; }` so we also need the `!important` here to be able to override the default hidden behavior on the sphinx rendered scikit-learn.org. See: https://github.com/scikit-learn/scikit-learn/issues/21755 */display: inline-block !important;position: relative;}#sk-container-id-2 div.sk-text-repr-fallback {display: none;}</style><div id=\"sk-container-id-2\" class=\"sk-top-container\"><div class=\"sk-text-repr-fallback\"><pre>SVC()</pre><b>In a Jupyter environment, please rerun this cell to show the HTML representation or trust the notebook. <br />On GitHub, the HTML representation is unable to render, please try loading this page with nbviewer.org.</b></div><div class=\"sk-container\" hidden><div class=\"sk-item\"><div class=\"sk-estimator sk-toggleable\"><input class=\"sk-toggleable__control sk-hidden--visually\" id=\"sk-estimator-id-2\" type=\"checkbox\" checked><label for=\"sk-estimator-id-2\" class=\"sk-toggleable__label sk-toggleable__label-arrow\">SVC</label><div class=\"sk-toggleable__content\"><pre>SVC()</pre></div></div></div></div></div>"
            ]
          },
          "metadata": {},
          "execution_count": 26
        }
      ]
    },
    {
      "cell_type": "code",
      "source": [
        "y_pred = classifier.predict(x_test)"
      ],
      "metadata": {
        "id": "3foWqlgoGkVA"
      },
      "execution_count": null,
      "outputs": []
    },
    {
      "cell_type": "code",
      "source": [
        "!pip install scikit-plot\n",
        "from scikitplot.estimators import plot_feature_importances\n",
        "from scikitplot.metrics import plot_confusion_matrix, plot_roc"
      ],
      "metadata": {
        "colab": {
          "base_uri": "https://localhost:8080/"
        },
        "id": "XWZzIxMFG_a-",
        "outputId": "a4feac21-75d9-4fec-a0e1-1e0d4555322e"
      },
      "execution_count": null,
      "outputs": [
        {
          "output_type": "stream",
          "name": "stdout",
          "text": [
            "Looking in indexes: https://pypi.org/simple, https://us-python.pkg.dev/colab-wheels/public/simple/\n",
            "Collecting scikit-plot\n",
            "  Downloading scikit_plot-0.3.7-py3-none-any.whl (33 kB)\n",
            "Requirement already satisfied: scikit-learn>=0.18 in /usr/local/lib/python3.9/dist-packages (from scikit-plot) (1.2.2)\n",
            "Requirement already satisfied: scipy>=0.9 in /usr/local/lib/python3.9/dist-packages (from scikit-plot) (1.10.1)\n",
            "Requirement already satisfied: matplotlib>=1.4.0 in /usr/local/lib/python3.9/dist-packages (from scikit-plot) (3.7.1)\n",
            "Requirement already satisfied: joblib>=0.10 in /usr/local/lib/python3.9/dist-packages (from scikit-plot) (1.1.1)\n",
            "Requirement already satisfied: cycler>=0.10 in /usr/local/lib/python3.9/dist-packages (from matplotlib>=1.4.0->scikit-plot) (0.11.0)\n",
            "Requirement already satisfied: packaging>=20.0 in /usr/local/lib/python3.9/dist-packages (from matplotlib>=1.4.0->scikit-plot) (23.0)\n",
            "Requirement already satisfied: numpy>=1.20 in /usr/local/lib/python3.9/dist-packages (from matplotlib>=1.4.0->scikit-plot) (1.22.4)\n",
            "Requirement already satisfied: python-dateutil>=2.7 in /usr/local/lib/python3.9/dist-packages (from matplotlib>=1.4.0->scikit-plot) (2.8.2)\n",
            "Requirement already satisfied: importlib-resources>=3.2.0 in /usr/local/lib/python3.9/dist-packages (from matplotlib>=1.4.0->scikit-plot) (5.12.0)\n",
            "Requirement already satisfied: fonttools>=4.22.0 in /usr/local/lib/python3.9/dist-packages (from matplotlib>=1.4.0->scikit-plot) (4.39.0)\n",
            "Requirement already satisfied: kiwisolver>=1.0.1 in /usr/local/lib/python3.9/dist-packages (from matplotlib>=1.4.0->scikit-plot) (1.4.4)\n",
            "Requirement already satisfied: pyparsing>=2.3.1 in /usr/local/lib/python3.9/dist-packages (from matplotlib>=1.4.0->scikit-plot) (3.0.9)\n",
            "Requirement already satisfied: contourpy>=1.0.1 in /usr/local/lib/python3.9/dist-packages (from matplotlib>=1.4.0->scikit-plot) (1.0.7)\n",
            "Requirement already satisfied: pillow>=6.2.0 in /usr/local/lib/python3.9/dist-packages (from matplotlib>=1.4.0->scikit-plot) (8.4.0)\n",
            "Requirement already satisfied: threadpoolctl>=2.0.0 in /usr/local/lib/python3.9/dist-packages (from scikit-learn>=0.18->scikit-plot) (3.1.0)\n",
            "Requirement already satisfied: zipp>=3.1.0 in /usr/local/lib/python3.9/dist-packages (from importlib-resources>=3.2.0->matplotlib>=1.4.0->scikit-plot) (3.15.0)\n",
            "Requirement already satisfied: six>=1.5 in /usr/local/lib/python3.9/dist-packages (from python-dateutil>=2.7->matplotlib>=1.4.0->scikit-plot) (1.15.0)\n",
            "Installing collected packages: scikit-plot\n",
            "Successfully installed scikit-plot-0.3.7\n"
          ]
        }
      ]
    },
    {
      "cell_type": "code",
      "source": [
        "from sklearn.metrics import confusion_matrix\n",
        "import scikitplot as skplt\n",
        "cm = confusion_matrix(y_test,y_pred)\n",
        "print(cm)\n",
        "skplt.metrics.plot_confusion_matrix(y_test, y_pred, normalize=False, title = 'Confusion Matrix for GBC')"
      ],
      "metadata": {
        "colab": {
          "base_uri": "https://localhost:8080/",
          "height": 347
        },
        "id": "iNVTwdh3GoKF",
        "outputId": "9ed23820-1672-4dc3-f271-a69a57c6ab68"
      },
      "execution_count": null,
      "outputs": [
        {
          "output_type": "stream",
          "name": "stdout",
          "text": [
            "[[ 88   1]\n",
            " [  1 136]]\n"
          ]
        },
        {
          "output_type": "execute_result",
          "data": {
            "text/plain": [
              "<Axes: title={'center': 'Confusion Matrix for GBC'}, xlabel='Predicted label', ylabel='True label'>"
            ]
          },
          "metadata": {},
          "execution_count": 29
        },
        {
          "output_type": "display_data",
          "data": {
            "text/plain": [
              "<Figure size 432x288 with 2 Axes>"
            ],
            "image/png": "[encoded data removed]"
          },
          "metadata": {
            "needs_background": "light"
          }
        }
      ]
    },
    {
      "cell_type": "markdown",
      "source": [
        "Visualisasi Data"
      ],
      "metadata": {
        "id": "tdroLlEKk5sY"
      }
    },
    {
      "cell_type": "code",
      "source": [
        "import matplotlib.pyplot as plt\n",
        "import seaborn as sns\n",
        "\n",
        "plt.figure(figsize=(15, 10))\n",
        "sns.heatmap(data.corr(), annot=True,cmap='coolwarm')"
      ],
      "metadata": {
        "colab": {
          "base_uri": "https://localhost:8080/",
          "height": 816
        },
        "id": "oPDfeI5aQ7oV",
        "outputId": "a31ab488-ac9c-4648-e9af-783454def311"
      },
      "execution_count": null,
      "outputs": [
        {
          "output_type": "execute_result",
          "data": {
            "text/plain": [
              "<Axes: >"
            ]
          },
          "metadata": {},
          "execution_count": 30
        },
        {
          "output_type": "display_data",
          "data": {
            "text/plain": [
              "<Figure size 1080x720 with 2 Axes>"
            ],
            "image/png": "[encoded data removed]"
          },
          "metadata": {
            "needs_background": "light"
          }
        }
      ]
    },
    {
      "cell_type": "code",
      "source": [
        "#Plot the tree\n",
        "plt.figure(figsize=(12,8))\n",
        "\n",
        "tree.plot_tree(clf_gini.fit(X_train, y_train))"
      ],
      "metadata": {
        "colab": {
          "base_uri": "https://localhost:8080/",
          "height": 518
        },
        "id": "RyrFBG7FoM_g",
        "outputId": "aa1d1668-0ad9-401f-e8a9-17c6889fe2e6"
      },
      "execution_count": null,
      "outputs": [
        {
          "output_type": "execute_result",
          "data": {
            "text/plain": [
              "[Text(0.5, 0.75, 'x[7] <= 1433333.312\\ngini = 0.484\\nsamples = 525\\nvalue = [215, 310]'),\n",
              " Text(0.25, 0.25, 'gini = 0.0\\nsamples = 310\\nvalue = [0, 310]'),\n",
              " Text(0.75, 0.25, 'gini = 0.0\\nsamples = 215\\nvalue = [215, 0]')]"
            ]
          },
          "metadata": {},
          "execution_count": 31
        },
        {
          "output_type": "display_data",
          "data": {
            "text/plain": [
              "<Figure size 864x576 with 1 Axes>"
            ],
            "image/png": "[encoded data removed]"
          },
          "metadata": {
            "needs_background": "light"
          }
        }
      ]
    },
    {
      "cell_type": "code",
      "source": [
        "sns.countplot(data['Semester'])\n",
        "plt.ioff"
      ],
      "metadata": {
        "id": "9BSukZ8PvGqw",
        "colab": {
          "base_uri": "https://localhost:8080/",
          "height": 351
        },
        "outputId": "8b83987b-3fba-49b2-a521-23b3358ce062"
      },
      "execution_count": null,
      "outputs": [
        {
          "output_type": "stream",
          "name": "stderr",
          "text": [
            "/usr/local/lib/python3.9/dist-packages/seaborn/_decorators.py:36: FutureWarning: Pass the following variable as a keyword arg: x. From version 0.12, the only valid positional argument will be `data`, and passing other arguments without an explicit keyword will result in an error or misinterpretation.\n",
            "  warnings.warn(\n"
          ]
        },
        {
          "output_type": "execute_result",
          "data": {
            "text/plain": [
              "<function matplotlib.pyplot.ioff()>"
            ]
          },
          "metadata": {},
          "execution_count": 29
        },
        {
          "output_type": "display_data",
          "data": {
            "text/plain": [
              "<Figure size 432x288 with 1 Axes>"
            ],
            "image/png": "[encoded data removed]"
          },
          "metadata": {
            "needs_background": "light"
          }
        }
      ]
    },
    {
      "cell_type": "code",
      "source": [
        "sns.countplot(data['Kelayakan'])\n",
        "plt.ioff"
      ],
      "metadata": {
        "id": "u--vnr4_-uuv",
        "colab": {
          "base_uri": "https://localhost:8080/",
          "height": 351
        },
        "outputId": "10364129-3a03-4b02-9eb2-4a34c14de7dd"
      },
      "execution_count": null,
      "outputs": [
        {
          "output_type": "stream",
          "name": "stderr",
          "text": [
            "/usr/local/lib/python3.9/dist-packages/seaborn/_decorators.py:36: FutureWarning: Pass the following variable as a keyword arg: x. From version 0.12, the only valid positional argument will be `data`, and passing other arguments without an explicit keyword will result in an error or misinterpretation.\n",
            "  warnings.warn(\n"
          ]
        },
        {
          "output_type": "execute_result",
          "data": {
            "text/plain": [
              "<function matplotlib.pyplot.ioff()>"
            ]
          },
          "metadata": {},
          "execution_count": 30
        },
        {
          "output_type": "display_data",
          "data": {
            "text/plain": [
              "<Figure size 432x288 with 1 Axes>"
            ],
            "image/png": "[encoded data removed]"
          },
          "metadata": {
            "needs_background": "light"
          }
        }
      ]
    },
    {
      "cell_type": "code",
      "source": [
        "for col in ['IPK']:\n",
        "    plt.figure(figsize=(12,5))\n",
        "    sns.distplot(data[col][data.Kelayakan=='1']) #-> Bivariate condition\n",
        "    sns.distplot(data[col][data.Kelayakan=='0'])\n",
        "    plt.legend(['0','1'])\n",
        "    plt.show()"
      ],
      "metadata": {
        "id": "Mr9WYk_g_Beg",
        "colab": {
          "base_uri": "https://localhost:8080/",
          "height": 423
        },
        "outputId": "a8b63f55-460d-4c42-82bf-a2b76b20a006"
      },
      "execution_count": null,
      "outputs": [
        {
          "output_type": "stream",
          "name": "stderr",
          "text": [
            "/usr/local/lib/python3.9/dist-packages/seaborn/distributions.py:2619: FutureWarning: `distplot` is a deprecated function and will be removed in a future version. Please adapt your code to use either `displot` (a figure-level function with similar flexibility) or `histplot` (an axes-level function for histograms).\n",
            "  warnings.warn(msg, FutureWarning)\n",
            "/usr/local/lib/python3.9/dist-packages/seaborn/distributions.py:2619: FutureWarning: `distplot` is a deprecated function and will be removed in a future version. Please adapt your code to use either `displot` (a figure-level function with similar flexibility) or `histplot` (an axes-level function for histograms).\n",
            "  warnings.warn(msg, FutureWarning)\n"
          ]
        },
        {
          "output_type": "display_data",
          "data": {
            "text/plain": [
              "<Figure size 864x360 with 1 Axes>"
            ],
            "image/png": "[encoded data removed]"
          },
          "metadata": {
            "needs_background": "light"
          }
        }
      ]
    },
    {
      "cell_type": "code",
      "source": [
        "for col in ['Jumlah Anggota Keluarga Yang ditanggung']:\n",
        "    plt.figure(figsize=(12,5))\n",
        "    sns.distplot(data[col][data.Kelayakan=='1']) #-> Bivariate condition\n",
        "    sns.distplot(data[col][data.Kelayakan=='0'])\n",
        "    plt.legend(['0','1'])\n",
        "    plt.show()"
      ],
      "metadata": {
        "id": "IfruhV-B_I1t",
        "colab": {
          "base_uri": "https://localhost:8080/",
          "height": 423
        },
        "outputId": "ad6e2f70-3b0e-481c-8078-0fa5645758ba"
      },
      "execution_count": null,
      "outputs": [
        {
          "output_type": "stream",
          "name": "stderr",
          "text": [
            "/usr/local/lib/python3.9/dist-packages/seaborn/distributions.py:2619: FutureWarning: `distplot` is a deprecated function and will be removed in a future version. Please adapt your code to use either `displot` (a figure-level function with similar flexibility) or `histplot` (an axes-level function for histograms).\n",
            "  warnings.warn(msg, FutureWarning)\n",
            "/usr/local/lib/python3.9/dist-packages/seaborn/distributions.py:2619: FutureWarning: `distplot` is a deprecated function and will be removed in a future version. Please adapt your code to use either `displot` (a figure-level function with similar flexibility) or `histplot` (an axes-level function for histograms).\n",
            "  warnings.warn(msg, FutureWarning)\n"
          ]
        },
        {
          "output_type": "display_data",
          "data": {
            "text/plain": [
              "<Figure size 864x360 with 1 Axes>"
            ],
            "image/png": "[encoded data removed]"
          },
          "metadata": {
            "needs_background": "light"
          }
        }
      ]
    },
    {
      "cell_type": "code",
      "source": [
        "for col in ['Total Penghasilan']:\n",
        "    plt.figure(figsize=(12,5))\n",
        "    sns.distplot(data[col][data.Kelayakan=='1']) #-> Bivariate condition\n",
        "    sns.distplot(data[col][data.Kelayakan=='0'])\n",
        "    plt.legend(['0','1'])\n",
        "    plt.show()"
      ],
      "metadata": {
        "id": "NH4Anxza8DRF",
        "colab": {
          "base_uri": "https://localhost:8080/",
          "height": 434
        },
        "outputId": "96e59b36-60d2-4f16-b65b-d3fe87e30dbc"
      },
      "execution_count": null,
      "outputs": [
        {
          "output_type": "stream",
          "name": "stderr",
          "text": [
            "/usr/local/lib/python3.9/dist-packages/seaborn/distributions.py:2619: FutureWarning: `distplot` is a deprecated function and will be removed in a future version. Please adapt your code to use either `displot` (a figure-level function with similar flexibility) or `histplot` (an axes-level function for histograms).\n",
            "  warnings.warn(msg, FutureWarning)\n",
            "/usr/local/lib/python3.9/dist-packages/seaborn/distributions.py:2619: FutureWarning: `distplot` is a deprecated function and will be removed in a future version. Please adapt your code to use either `displot` (a figure-level function with similar flexibility) or `histplot` (an axes-level function for histograms).\n",
            "  warnings.warn(msg, FutureWarning)\n"
          ]
        },
        {
          "output_type": "display_data",
          "data": {
            "text/plain": [
              "<Figure size 864x360 with 1 Axes>"
            ],
            "image/png": "[encoded data removed]"
          },
          "metadata": {
            "needs_background": "light"
          }
        }
      ]
    },
    {
      "cell_type": "code",
      "source": [
        "for col in ['Alokasi Penghasilan per Anak']:\n",
        "    plt.figure(figsize=(12,5))\n",
        "    sns.distplot(data[col][data.Kelayakan=='1']) #-> Bivariate condition\n",
        "    sns.distplot(data[col][data.Kelayakan=='0'])\n",
        "    plt.legend(['0','1'])\n",
        "    plt.show()"
      ],
      "metadata": {
        "id": "y3US4DXB_NvZ",
        "colab": {
          "base_uri": "https://localhost:8080/",
          "height": 434
        },
        "outputId": "d402814d-6cbc-42a5-e69d-26cf4511567f"
      },
      "execution_count": null,
      "outputs": [
        {
          "output_type": "stream",
          "name": "stderr",
          "text": [
            "/usr/local/lib/python3.9/dist-packages/seaborn/distributions.py:2619: FutureWarning: `distplot` is a deprecated function and will be removed in a future version. Please adapt your code to use either `displot` (a figure-level function with similar flexibility) or `histplot` (an axes-level function for histograms).\n",
            "  warnings.warn(msg, FutureWarning)\n",
            "/usr/local/lib/python3.9/dist-packages/seaborn/distributions.py:2619: FutureWarning: `distplot` is a deprecated function and will be removed in a future version. Please adapt your code to use either `displot` (a figure-level function with similar flexibility) or `histplot` (an axes-level function for histograms).\n",
            "  warnings.warn(msg, FutureWarning)\n"
          ]
        },
        {
          "output_type": "display_data",
          "data": {
            "text/plain": [
              "<Figure size 864x360 with 1 Axes>"
            ],
            "image/png": "[encoded data removed]"
          },
          "metadata": {
            "needs_background": "light"
          }
        }
      ]
    },
    {
      "cell_type": "markdown",
      "source": [
        "Mengevaluasi Hasil Permodelan"
      ],
      "metadata": {
        "id": "7_ebVlrOrpkI"
      }
    },
    {
      "cell_type": "code",
      "source": [
        "matrix = classification_report(y_test,y_pred,labels=[1,0])\n",
        "print('<--------------- Classification report --------------->\\n', matrix)"
      ],
      "metadata": {
        "colab": {
          "base_uri": "https://localhost:8080/"
        },
        "id": "mORkdYTXHPon",
        "outputId": "1dcf953f-2c48-4d4b-fc56-d8e6d38bc796"
      },
      "execution_count": null,
      "outputs": [
        {
          "output_type": "stream",
          "name": "stdout",
          "text": [
            "<--------------- Classification report --------------->\n",
            "               precision    recall  f1-score   support\n",
            "\n",
            "           1       0.99      0.99      0.99       137\n",
            "           0       0.99      0.99      0.99        89\n",
            "\n",
            "   micro avg       0.99      0.99      0.99       226\n",
            "   macro avg       0.99      0.99      0.99       226\n",
            "weighted avg       0.99      0.99      0.99       226\n",
            "\n"
          ]
        },
        {
          "output_type": "stream",
          "name": "stderr",
          "text": [
            "/usr/local/lib/python3.9/dist-packages/numpy/lib/arraysetops.py:604: FutureWarning: elementwise comparison failed; returning scalar instead, but in the future will perform elementwise comparison\n",
            "  mask &= (ar1 != a)\n",
            "/usr/local/lib/python3.9/dist-packages/numpy/lib/arraysetops.py:604: FutureWarning: elementwise comparison failed; returning scalar instead, but in the future will perform elementwise comparison\n",
            "  mask &= (ar1 != a)\n",
            "/usr/local/lib/python3.9/dist-packages/numpy/lib/arraysetops.py:604: FutureWarning: elementwise comparison failed; returning scalar instead, but in the future will perform elementwise comparison\n",
            "  mask &= (ar1 != a)\n",
            "/usr/local/lib/python3.9/dist-packages/numpy/lib/arraysetops.py:604: FutureWarning: elementwise comparison failed; returning scalar instead, but in the future will perform elementwise comparison\n",
            "  mask &= (ar1 != a)\n"
          ]
        }
      ]
    },
    {
      "cell_type": "code",
      "source": [
        "# informasi yang didapatkan dari klasifikasi\n",
        "from sklearn.metrics import accuracy_score, recall_score, precision_score, f1_score, confusion_matrix, roc_curve, roc_auc_score\n",
        "hasil = classifier.predict(x_test)\n",
        "print('accuracy score :',accuracy_score(hasil,y_test))\n",
        "print('Precision Score :',precision_score(y_test, hasil, pos_label='1'))\n",
        "print('Recall score :',recall_score(y_test, hasil,pos_label='1'))\n",
        "print('F1 score :',f1_score(y_test, hasil,pos_label='1'))"
      ],
      "metadata": {
        "colab": {
          "base_uri": "https://localhost:8080/"
        },
        "id": "8bq1Z7JLHUy-",
        "outputId": "22f7763e-2a08-49a0-82ef-14ad47f3c52f"
      },
      "execution_count": null,
      "outputs": [
        {
          "output_type": "stream",
          "name": "stdout",
          "text": [
            "accuracy score : 0.9911504424778761\n",
            "Precision Score : 0.9927007299270073\n",
            "Recall score : 0.9927007299270073\n",
            "F1 score : 0.9927007299270073\n"
          ]
        }
      ]
    }
  ]
}